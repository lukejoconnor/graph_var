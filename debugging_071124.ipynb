{
 "cells": [
  {
   "metadata": {
    "ExecuteTime": {
     "end_time": "2024-07-17T19:24:47.439155Z",
     "start_time": "2024-07-17T19:24:47.437359Z"
    }
   },
   "cell_type": "code",
   "source": [
    "import networkx as nx\n",
    "\n",
    "from graph import PangenomeGraph\n",
    "import numpy as np\n",
    "from utils import _node_complement, read_gfa, _edge_complement"
   ],
   "id": "ae651bd3d1b488ed",
   "outputs": [],
   "execution_count": 37
  },
  {
   "cell_type": "code",
   "id": "initial_id",
   "metadata": {
    "collapsed": true,
    "ExecuteTime": {
     "end_time": "2024-07-17T18:39:21.569412Z",
     "start_time": "2024-07-17T18:34:43.394579Z"
    }
   },
   "source": [
    "%%time\n",
    "# gfa_file = \"/Users/loconnor/Downloads/smaller_sub.gfa\"\n",
    "gfa_file = \"/Users/loconnor/Downloads/grch38_chr20.gfa\"\n",
    "ref_walk = 7\n",
    "# gfa_file = \"/Users/loconnor/Dropbox/GitHub/graph_var/c4a.gfa\"\n",
    "# gfa_file = \"test.gfa\"\n",
    "pg7, walks, _ = PangenomeGraph.from_gfa(gfa_file, reference_path_index=ref_walk, return_walks=True)"
   ],
   "outputs": [
    {
     "name": "stdout",
     "output_type": "stream",
     "text": [
      "Num of binodes: 1859947\n",
      "Num of biedges: 2574969\n",
      "Computing reference tree\n",
      "Computing positions\n",
      "Computing branch points\n",
      "CPU times: user 4min 32s, sys: 4.25 s, total: 4min 36s\n",
      "Wall time: 4min 38s\n"
     ]
    }
   ],
   "execution_count": 2
  },
  {
   "metadata": {
    "ExecuteTime": {
     "end_time": "2024-07-17T19:32:56.331800Z",
     "start_time": "2024-07-17T19:32:56.325236Z"
    }
   },
   "cell_type": "code",
   "source": [
    "%%time\n",
    "# gfa_file = \"/Users/loconnor/Downloads/smaller_sub.gfa\"\n",
    "# gfa_file = \"/Users/loconnor/Downloads/grch38_chr20.gfa\"\n",
    "# ref_walk = 7\n",
    "gfa_file = \"/Users/loconnor/Dropbox/GitHub/graph_var/c4a.gfa\"\n",
    "# gfa_file = \"test.gfa\"\n",
    "pg = PangenomeGraph.from_gfa(gfa_file, reference_path_index=ref_walk, return_walks=False)"
   ],
   "id": "907b52840616a0b5",
   "outputs": [
    {
     "name": "stdout",
     "output_type": "stream",
     "text": [
      "Num of binodes: 8\n",
      "Num of biedges: 13\n",
      "Computing reference tree\n",
      "Computing positions\n",
      "Computing branch points\n",
      "CPU times: user 2.26 ms, sys: 1.47 ms, total: 3.73 ms\n",
      "Wall time: 4.11 ms\n"
     ]
    }
   ],
   "execution_count": 40
  },
  {
   "metadata": {
    "ExecuteTime": {
     "end_time": "2024-07-17T19:33:36.373431Z",
     "start_time": "2024-07-17T19:33:36.368513Z"
    }
   },
   "cell_type": "code",
   "source": "pg.write_tree('/Users/loconnor/Downloads/c4a.tree')",
   "id": "bf2d29658a084d77",
   "outputs": [
    {
     "data": {
      "text/plain": [
       "['+_terminus_+',\n",
       " 'SKIC2_+',\n",
       " 'DXO_-',\n",
       " 'STK19_+',\n",
       " 'C4A_+',\n",
       " 'CYP21A2_+',\n",
       " 'TNXB_-',\n",
       " 'C4B_+',\n",
       " 'ATF6B_-',\n",
       " '-_terminus_+']"
      ]
     },
     "execution_count": 42,
     "metadata": {},
     "output_type": "execute_result"
    }
   ],
   "execution_count": 42
  },
  {
   "metadata": {
    "ExecuteTime": {
     "end_time": "2024-07-17T19:33:59.670953Z",
     "start_time": "2024-07-17T19:33:59.583522Z"
    }
   },
   "cell_type": "code",
   "source": "pg_from_file = PangenomeGraph.from_gfa(gfa_file, reference_path_index=ref_walk, return_walks=False, edgeinfo_file='/Users/loconnor/Downloads/c4a.tree')",
   "id": "c90e55073cb480ed",
   "outputs": [
    {
     "name": "stdout",
     "output_type": "stream",
     "text": [
      "Num of binodes: 8\n",
      "Num of biedges: 13\n",
      "Reading edgeinfo file\n"
     ]
    },
    {
     "ename": "IndexError",
     "evalue": "list index out of range",
     "output_type": "error",
     "traceback": [
      "\u001B[0;31m---------------------------------------------------------------------------\u001B[0m",
      "\u001B[0;31mIndexError\u001B[0m                                Traceback (most recent call last)",
      "Cell \u001B[0;32mIn[43], line 1\u001B[0m\n\u001B[0;32m----> 1\u001B[0m pg_from_file \u001B[38;5;241m=\u001B[39m PangenomeGraph\u001B[38;5;241m.\u001B[39mfrom_gfa(gfa_file, reference_path_index\u001B[38;5;241m=\u001B[39mref_walk, return_walks\u001B[38;5;241m=\u001B[39m\u001B[38;5;28;01mFalse\u001B[39;00m, edgeinfo_file\u001B[38;5;241m=\u001B[39m\u001B[38;5;124m'\u001B[39m\u001B[38;5;124m/Users/loconnor/Downloads/c4a.tree\u001B[39m\u001B[38;5;124m'\u001B[39m)\n",
      "File \u001B[0;32m~/Dropbox/GitHub/graph_var/graph.py:86\u001B[0m, in \u001B[0;36mPangenomeGraph.from_gfa\u001B[0;34m(cls, gfa_file, reference_path_index, edgeinfo_file, return_walks, compressed)\u001B[0m\n\u001B[1;32m     84\u001B[0m \u001B[38;5;28;01mif\u001B[39;00m edgeinfo_file:\n\u001B[1;32m     85\u001B[0m     \u001B[38;5;28mprint\u001B[39m(\u001B[38;5;124m\"\u001B[39m\u001B[38;5;124mReading edgeinfo file\u001B[39m\u001B[38;5;124m\"\u001B[39m)\n\u001B[0;32m---> 86\u001B[0m     G\u001B[38;5;241m.\u001B[39mread_edgeinfo(edgeinfo_file)\n\u001B[1;32m     87\u001B[0m \u001B[38;5;28;01melse\u001B[39;00m:\n\u001B[1;32m     88\u001B[0m     \u001B[38;5;28mprint\u001B[39m(\u001B[38;5;124m\"\u001B[39m\u001B[38;5;124mComputing reference tree\u001B[39m\u001B[38;5;124m\"\u001B[39m)\n",
      "File \u001B[0;32m~/Dropbox/GitHub/graph_var/graph.py:358\u001B[0m, in \u001B[0;36mPangenomeGraph.read_edgeinfo\u001B[0;34m(self, filename)\u001B[0m\n\u001B[1;32m    356\u001B[0m         \u001B[38;5;66;03m# Extract the edge info\u001B[39;00m\n\u001B[1;32m    357\u001B[0m         \u001B[38;5;28;01mfor\u001B[39;00m i, key \u001B[38;5;129;01min\u001B[39;00m \u001B[38;5;28menumerate\u001B[39m(\u001B[38;5;28mself\u001B[39m\u001B[38;5;241m.\u001B[39mbiedge_attribute_names):\n\u001B[0;32m--> 358\u001B[0m             \u001B[38;5;28mself\u001B[39m\u001B[38;5;241m.\u001B[39medges[edge][key] \u001B[38;5;241m=\u001B[39m from_string(parts[i])\n\u001B[1;32m    359\u001B[0m             \u001B[38;5;28mself\u001B[39m\u001B[38;5;241m.\u001B[39medges[_edge_complement(edge)][key] \u001B[38;5;241m=\u001B[39m from_string(parts[i])\n\u001B[1;32m    361\u001B[0m \u001B[38;5;66;03m# Define variant edge representatives\u001B[39;00m\n",
      "\u001B[0;31mIndexError\u001B[0m: list index out of range"
     ]
    }
   ],
   "execution_count": 43
  },
  {
   "metadata": {
    "ExecuteTime": {
     "end_time": "2024-07-17T18:39:22.381101Z",
     "start_time": "2024-07-17T18:39:21.570473Z"
    }
   },
   "cell_type": "code",
   "source": "inversions = [e for e in pg7.variant_edges if pg7.is_inversion(e)]",
   "id": "d2ff23cb4a1afaaa",
   "outputs": [],
   "execution_count": 3
  },
  {
   "metadata": {
    "ExecuteTime": {
     "end_time": "2024-07-17T18:39:22.384727Z",
     "start_time": "2024-07-17T18:39:22.381740Z"
    }
   },
   "cell_type": "code",
   "source": "len(inversions)",
   "id": "3290f5ee6487cc98",
   "outputs": [
    {
     "data": {
      "text/plain": [
       "2"
      ]
     },
     "execution_count": 4,
     "metadata": {},
     "output_type": "execute_result"
    }
   ],
   "execution_count": 4
  },
  {
   "metadata": {
    "ExecuteTime": {
     "end_time": "2024-07-17T18:41:28.009132Z",
     "start_time": "2024-07-17T18:41:28.005393Z"
    }
   },
   "cell_type": "code",
   "source": "pg7.reference_tree.number_of_nodes() * 2",
   "id": "8e2028a5955b19df",
   "outputs": [
    {
     "data": {
      "text/plain": [
       "3719898"
      ]
     },
     "execution_count": 5,
     "metadata": {},
     "output_type": "execute_result"
    }
   ],
   "execution_count": 5
  },
  {
   "metadata": {
    "ExecuteTime": {
     "end_time": "2024-07-17T18:41:31.167324Z",
     "start_time": "2024-07-17T18:41:31.163461Z"
    }
   },
   "cell_type": "code",
   "source": "pg7.number_of_nodes()",
   "id": "398432b4d9c282e7",
   "outputs": [
    {
     "data": {
      "text/plain": [
       "3719898"
      ]
     },
     "execution_count": 6,
     "metadata": {},
     "output_type": "execute_result"
    }
   ],
   "execution_count": 6
  },
  {
   "metadata": {
    "ExecuteTime": {
     "end_time": "2024-07-17T18:41:40.742994Z",
     "start_time": "2024-07-17T18:41:40.738554Z"
    }
   },
   "cell_type": "code",
   "source": "pg7.out_degree('-_terminus_-'), pg7.in_degree('-_terminus_+'), pg7.out_degree('+_terminus_+'), pg7.in_degree('+_terminus_-')",
   "id": "da0dd6b3f328a28d",
   "outputs": [
    {
     "data": {
      "text/plain": [
       "(362, 362, 345, 345)"
      ]
     },
     "execution_count": 7,
     "metadata": {},
     "output_type": "execute_result"
    }
   ],
   "execution_count": 7
  },
  {
   "metadata": {
    "ExecuteTime": {
     "end_time": "2024-07-17T18:41:48.299074Z",
     "start_time": "2024-07-17T18:41:43.488652Z"
    }
   },
   "cell_type": "code",
   "source": "nx.is_weakly_connected(pg7)",
   "id": "7646ec4ee0e63188",
   "outputs": [
    {
     "data": {
      "text/plain": [
       "True"
      ]
     },
     "execution_count": 8,
     "metadata": {},
     "output_type": "execute_result"
    }
   ],
   "execution_count": 8
  },
  {
   "metadata": {
    "ExecuteTime": {
     "end_time": "2024-07-17T18:41:50.094258Z",
     "start_time": "2024-07-17T18:41:48.299983Z"
    }
   },
   "cell_type": "code",
   "source": "nx.is_weakly_connected(pg7.reference_tree)",
   "id": "b20770c33bad5286",
   "outputs": [
    {
     "data": {
      "text/plain": [
       "True"
      ]
     },
     "execution_count": 9,
     "metadata": {},
     "output_type": "execute_result"
    }
   ],
   "execution_count": 9
  },
  {
   "metadata": {
    "ExecuteTime": {
     "end_time": "2024-07-17T18:41:55.222423Z",
     "start_time": "2024-07-17T18:41:50.095434Z"
    }
   },
   "cell_type": "code",
   "source": "len(list(nx.weakly_connected_components(pg7)))",
   "id": "860bdacd2feb98e3",
   "outputs": [
    {
     "data": {
      "text/plain": [
       "1"
      ]
     },
     "execution_count": 10,
     "metadata": {},
     "output_type": "execute_result"
    }
   ],
   "execution_count": 10
  },
  {
   "metadata": {
    "ExecuteTime": {
     "end_time": "2024-07-17T18:41:55.691644Z",
     "start_time": "2024-07-17T18:41:55.223415Z"
    }
   },
   "cell_type": "code",
   "source": [
    "ref_path_dir = [pg7.nodes[node]['direction'] for node in pg7.reference_path]\n",
    "np.all(np.array(ref_path_dir) == 1)"
   ],
   "id": "4f97b76a82d54d4f",
   "outputs": [
    {
     "data": {
      "text/plain": [
       "np.True_"
      ]
     },
     "execution_count": 11,
     "metadata": {},
     "output_type": "execute_result"
    }
   ],
   "execution_count": 11
  },
  {
   "metadata": {
    "ExecuteTime": {
     "end_time": "2024-07-17T18:41:58.564637Z",
     "start_time": "2024-07-17T18:41:58.560957Z"
    }
   },
   "cell_type": "code",
   "source": "inversions",
   "id": "d06ce5b97bc5d84e",
   "outputs": [
    {
     "data": {
      "text/plain": [
       "[('42682860_+', '42682867_-'), ('42737146_-', '42737147_+')]"
      ]
     },
     "execution_count": 12,
     "metadata": {},
     "output_type": "execute_result"
    }
   ],
   "execution_count": 12
  },
  {
   "metadata": {},
   "cell_type": "code",
   "outputs": [],
   "execution_count": null,
   "source": "",
   "id": "4c388684bc1c1111"
  },
  {
   "metadata": {
    "ExecuteTime": {
     "end_time": "2024-07-17T18:48:10.749646Z",
     "start_time": "2024-07-17T18:48:08.720884Z"
    }
   },
   "cell_type": "code",
   "source": [
    "deletions = [e for e in pg7.variant_edges if pg7.is_forward_edge(e)]\n",
    "len(deletions)"
   ],
   "id": "d9d9d9903698b483",
   "outputs": [
    {
     "data": {
      "text/plain": [
       "85441"
      ]
     },
     "execution_count": 20,
     "metadata": {},
     "output_type": "execute_result"
    }
   ],
   "execution_count": 20
  },
  {
   "metadata": {
    "ExecuteTime": {
     "end_time": "2024-07-17T18:58:00.350460Z",
     "start_time": "2024-07-17T18:57:54.239671Z"
    }
   },
   "cell_type": "code",
   "source": [
    "def is_snp(G, edge):\n",
    "    if not G.is_crossing_edge(edge):\n",
    "        return False\n",
    "    ref, alt, _, _ = G.ref_alt_alleles(edge)\n",
    "    return len(ref) == len(alt) == 1\n",
    "snps = [e for e in pg7.variant_edges if is_snp(pg7, e)]\n",
    "len(snps)"
   ],
   "id": "f0048747d867d69e",
   "outputs": [
    {
     "data": {
      "text/plain": [
       "521930"
      ]
     },
     "execution_count": 24,
     "metadata": {},
     "output_type": "execute_result"
    }
   ],
   "execution_count": 24
  },
  {
   "metadata": {
    "ExecuteTime": {
     "end_time": "2024-07-17T18:48:14.805555Z",
     "start_time": "2024-07-17T18:48:12.875149Z"
    }
   },
   "cell_type": "code",
   "source": [
    "repeats = [e for e in pg7.variant_edges if pg7.is_back_edge(e)]\n",
    "len(repeats)"
   ],
   "id": "6fe24306d39a0632",
   "outputs": [
    {
     "data": {
      "text/plain": [
       "4613"
      ]
     },
     "execution_count": 21,
     "metadata": {},
     "output_type": "execute_result"
    }
   ],
   "execution_count": 21
  },
  {
   "metadata": {
    "ExecuteTime": {
     "end_time": "2024-07-17T18:48:33.463672Z",
     "start_time": "2024-07-17T18:48:33.459825Z"
    }
   },
   "cell_type": "code",
   "source": "len(pg7.variant_edges)",
   "id": "132587c260775ae1",
   "outputs": [
    {
     "data": {
      "text/plain": [
       "715726"
      ]
     },
     "execution_count": 22,
     "metadata": {},
     "output_type": "execute_result"
    }
   ],
   "execution_count": 22
  },
  {
   "metadata": {
    "ExecuteTime": {
     "end_time": "2024-07-17T18:58:08.648984Z",
     "start_time": "2024-07-17T18:58:08.646666Z"
    }
   },
   "cell_type": "code",
   "source": "521930/715726",
   "id": "7be753607c552784",
   "outputs": [
    {
     "data": {
      "text/plain": [
       "0.7292315774472354"
      ]
     },
     "execution_count": 25,
     "metadata": {},
     "output_type": "execute_result"
    }
   ],
   "execution_count": 25
  },
  {
   "metadata": {
    "ExecuteTime": {
     "end_time": "2024-07-17T19:17:53.896541Z",
     "start_time": "2024-07-17T19:17:53.705455Z"
    }
   },
   "cell_type": "code",
   "source": [
    "allele_length = []\n",
    "for n,e in enumerate(pg7.variant_edges):\n",
    "    if n > 100:\n",
    "        break\n",
    "    ancestor = pg7.edges[e]['branch_point']\n",
    "    descendent = e[0] if e[0] in pg7.reference_tree else _node_complement(e[0])\n",
    "    allele_length.append(len(pg7.walk_up_tree(ancestor, descendent, search_limit=np.inf)))\n",
    "    \n",
    "    "
   ],
   "id": "c5b6cadaeeaf8e9b",
   "outputs": [
    {
     "ename": "StopIteration",
     "evalue": "",
     "output_type": "error",
     "traceback": [
      "\u001B[0;31m---------------------------------------------------------------------------\u001B[0m",
      "\u001B[0;31mStopIteration\u001B[0m                             Traceback (most recent call last)",
      "Cell \u001B[0;32mIn[30], line 7\u001B[0m\n\u001B[1;32m      5\u001B[0m ancestor \u001B[38;5;241m=\u001B[39m pg7\u001B[38;5;241m.\u001B[39medges[e][\u001B[38;5;124m'\u001B[39m\u001B[38;5;124mbranch_point\u001B[39m\u001B[38;5;124m'\u001B[39m]\n\u001B[1;32m      6\u001B[0m descendent \u001B[38;5;241m=\u001B[39m e[\u001B[38;5;241m0\u001B[39m] \u001B[38;5;28;01mif\u001B[39;00m e[\u001B[38;5;241m0\u001B[39m] \u001B[38;5;129;01min\u001B[39;00m pg7\u001B[38;5;241m.\u001B[39mreference_tree \u001B[38;5;28;01melse\u001B[39;00m _node_complement(e[\u001B[38;5;241m0\u001B[39m])\n\u001B[0;32m----> 7\u001B[0m allele_length\u001B[38;5;241m.\u001B[39mappend(\u001B[38;5;28mlen\u001B[39m(pg7\u001B[38;5;241m.\u001B[39mwalk_up_tree(ancestor, descendent, search_limit\u001B[38;5;241m=\u001B[39mnp\u001B[38;5;241m.\u001B[39minf)))\n",
      "File \u001B[0;32m~/Dropbox/GitHub/graph_var/graph.py:445\u001B[0m, in \u001B[0;36mPangenomeGraph.walk_up_tree\u001B[0;34m(self, ancestor, descendant, search_limit)\u001B[0m\n\u001B[1;32m    443\u001B[0m     search_count \u001B[38;5;241m+\u001B[39m\u001B[38;5;241m=\u001B[39m \u001B[38;5;241m1\u001B[39m\n\u001B[1;32m    444\u001B[0m     result\u001B[38;5;241m.\u001B[39mappend(u)\n\u001B[0;32m--> 445\u001B[0m     u \u001B[38;5;241m=\u001B[39m \u001B[38;5;28mnext\u001B[39m(\u001B[38;5;28mself\u001B[39m\u001B[38;5;241m.\u001B[39mreference_tree\u001B[38;5;241m.\u001B[39mpredecessors(u))\n\u001B[1;32m    446\u001B[0m result\u001B[38;5;241m.\u001B[39mappend(ancestor)\n\u001B[1;32m    447\u001B[0m \u001B[38;5;28;01mif\u001B[39;00m (search_count \u001B[38;5;241m+\u001B[39m \u001B[38;5;241m1\u001B[39m) \u001B[38;5;241m==\u001B[39m search_limit:\n",
      "\u001B[0;31mStopIteration\u001B[0m: "
     ]
    }
   ],
   "execution_count": 30
  },
  {
   "metadata": {
    "ExecuteTime": {
     "end_time": "2024-07-17T19:24:52.286859Z",
     "start_time": "2024-07-17T19:24:52.282208Z"
    }
   },
   "cell_type": "code",
   "source": [
    "def annotate_branch_points(self) -> None:\n",
    "    \"\"\"\n",
    "    Computes the branch point, i.e. the lowest common ancestor in the reference tree, of each variant edge.\n",
    "    \"\"\"\n",
    "\n",
    "    non_inversion_variants = [(u, v) for u, v in self.variant_edges\n",
    "                              if self.nodes[u]['direction'] == self.nodes[v]['direction']]\n",
    "\n",
    "    positive_direction_variants = [e if self.nodes[e[0]]['direction'] == 1 else _edge_complement(e)\n",
    "                                   for e in non_inversion_variants]\n",
    "\n",
    "    # For each variant edge (u,v), yield the lowest common ancestor of u and v in the tree\n",
    "    branch_point_tuples = nx.tree_all_pairs_lowest_common_ancestor(\n",
    "        self.reference_tree,\n",
    "        root=self.termini[0]+'_+',\n",
    "        pairs=positive_direction_variants\n",
    "    )\n",
    "\n",
    "    for edge, branch_point in branch_point_tuples:\n",
    "        self.edges[edge]['branch_point'] = branch_point\n",
    "        self.edges[_edge_complement(edge)]['branch_point'] = _node_complement(branch_point)"
   ],
   "id": "2ddf8b33531e202",
   "outputs": [],
   "execution_count": 38
  },
  {
   "metadata": {
    "ExecuteTime": {
     "end_time": "2024-07-17T19:25:16.563617Z",
     "start_time": "2024-07-17T19:24:58.528441Z"
    }
   },
   "cell_type": "code",
   "source": "annotate_branch_points(pg7)",
   "id": "55aa634aa032f1e2",
   "outputs": [],
   "execution_count": 39
  },
  {
   "metadata": {
    "ExecuteTime": {
     "end_time": "2024-07-17T19:19:56.032524Z",
     "start_time": "2024-07-17T19:19:56.030175Z"
    }
   },
   "cell_type": "code",
   "source": "pg7.edges[e]['branch_point']",
   "id": "6b4f962b2ee8bda4",
   "outputs": [
    {
     "data": {
      "text/plain": [
       "'42729902_-'"
      ]
     },
     "execution_count": 32,
     "metadata": {},
     "output_type": "execute_result"
    }
   ],
   "execution_count": 32
  },
  {
   "metadata": {
    "ExecuteTime": {
     "end_time": "2024-07-17T19:20:03.150127Z",
     "start_time": "2024-07-17T19:20:03.147674Z"
    }
   },
   "cell_type": "code",
   "source": "pg7.edges[e]['branch_point'] in pg7.reference_tree",
   "id": "c6a5f2b16e132cde",
   "outputs": [
    {
     "data": {
      "text/plain": [
       "False"
      ]
     },
     "execution_count": 33,
     "metadata": {},
     "output_type": "execute_result"
    }
   ],
   "execution_count": 33
  },
  {
   "metadata": {
    "ExecuteTime": {
     "end_time": "2024-07-17T19:20:22.780411Z",
     "start_time": "2024-07-17T19:20:22.777926Z"
    }
   },
   "cell_type": "code",
   "source": "_node_complement(pg7.edges[e]['branch_point']) in pg7.reference_tree",
   "id": "a5751ebb0326620c",
   "outputs": [
    {
     "data": {
      "text/plain": [
       "True"
      ]
     },
     "execution_count": 34,
     "metadata": {},
     "output_type": "execute_result"
    }
   ],
   "execution_count": 34
  },
  {
   "metadata": {
    "ExecuteTime": {
     "end_time": "2024-07-17T19:20:49.173225Z",
     "start_time": "2024-07-17T19:20:49.168893Z"
    }
   },
   "cell_type": "code",
   "source": "pg7.nodes[_node_complement(pg7.edges[e]['branch_point'])]['direction']",
   "id": "9b1311a6820e318c",
   "outputs": [
    {
     "data": {
      "text/plain": [
       "1"
      ]
     },
     "execution_count": 36,
     "metadata": {},
     "output_type": "execute_result"
    }
   ],
   "execution_count": 36
  },
  {
   "metadata": {},
   "cell_type": "code",
   "outputs": [],
   "execution_count": null,
   "source": "",
   "id": "dc4d0c2411d525c4"
  }
 ],
 "metadata": {
  "kernelspec": {
   "display_name": "Python 3",
   "language": "python",
   "name": "python3"
  },
  "language_info": {
   "codemirror_mode": {
    "name": "ipython",
    "version": 2
   },
   "file_extension": ".py",
   "mimetype": "text/x-python",
   "name": "python",
   "nbconvert_exporter": "python",
   "pygments_lexer": "ipython2",
   "version": "2.7.6"
  }
 },
 "nbformat": 4,
 "nbformat_minor": 5
}
