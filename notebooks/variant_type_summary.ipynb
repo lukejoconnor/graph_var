{
 "cells": [
  {
   "cell_type": "code",
   "execution_count": 1,
   "id": "1c002d95981636e5",
   "metadata": {
    "collapsed": false
   },
   "outputs": [],
   "source": [
    "from utils import load_graph_from_pkl\n",
    "from graph import PangenomeGraph\n",
    "from evaluating_functions import *\n",
    "import os\n",
    "import pandas as pd"
   ]
  },
  {
   "cell_type": "markdown",
   "id": "70d03610",
   "metadata": {},
   "source": [
    "Common Variants Summary"
   ]
  },
  {
   "cell_type": "code",
   "execution_count": 2,
   "id": "42888fe8",
   "metadata": {},
   "outputs": [],
   "source": [
    "graph_obj_dir = f\"/n/data1/hms/dbmi/oconnor/lab/shz311/pangenome/Graph_objs\""
   ]
  },
  {
   "cell_type": "code",
   "execution_count": 3,
   "id": "2505d1de",
   "metadata": {},
   "outputs": [
    {
     "name": "stdout",
     "output_type": "stream",
     "text": [
      "Processing file: /n/data1/hms/dbmi/oconnor/lab/shz311/pangenome/Graph_objs/chr1.pkl\n"
     ]
    },
    {
     "name": "stderr",
     "output_type": "stream",
     "text": [
      "100%|██████████| 2416515/2416515 [00:09<00:00, 248028.86it/s]\n"
     ]
    },
    {
     "name": "stdout",
     "output_type": "stream",
     "text": [
      "Processing file: /n/data1/hms/dbmi/oconnor/lab/shz311/pangenome/Graph_objs/chr2.pkl\n"
     ]
    },
    {
     "name": "stderr",
     "output_type": "stream",
     "text": [
      "100%|██████████| 2473348/2473348 [00:10<00:00, 230521.84it/s]\n"
     ]
    },
    {
     "name": "stdout",
     "output_type": "stream",
     "text": [
      "Processing file: /n/data1/hms/dbmi/oconnor/lab/shz311/pangenome/Graph_objs/chr3.pkl\n"
     ]
    },
    {
     "name": "stderr",
     "output_type": "stream",
     "text": [
      "100%|██████████| 1905058/1905058 [00:06<00:00, 284962.40it/s]\n"
     ]
    },
    {
     "name": "stdout",
     "output_type": "stream",
     "text": [
      "Processing file: /n/data1/hms/dbmi/oconnor/lab/shz311/pangenome/Graph_objs/chr4.pkl\n"
     ]
    },
    {
     "name": "stderr",
     "output_type": "stream",
     "text": [
      "100%|██████████| 2028184/2028184 [00:07<00:00, 260542.69it/s]\n"
     ]
    },
    {
     "name": "stdout",
     "output_type": "stream",
     "text": [
      "Processing file: /n/data1/hms/dbmi/oconnor/lab/shz311/pangenome/Graph_objs/chr5.pkl\n"
     ]
    },
    {
     "name": "stderr",
     "output_type": "stream",
     "text": [
      "100%|██████████| 1948169/1948169 [00:07<00:00, 275291.19it/s]\n"
     ]
    },
    {
     "name": "stdout",
     "output_type": "stream",
     "text": [
      "Processing file: /n/data1/hms/dbmi/oconnor/lab/shz311/pangenome/Graph_objs/chr6.pkl\n"
     ]
    },
    {
     "name": "stderr",
     "output_type": "stream",
     "text": [
      "100%|██████████| 1740762/1740762 [00:07<00:00, 229363.17it/s]\n"
     ]
    },
    {
     "name": "stdout",
     "output_type": "stream",
     "text": [
      "Processing file: /n/data1/hms/dbmi/oconnor/lab/shz311/pangenome/Graph_objs/chr7.pkl\n"
     ]
    },
    {
     "name": "stderr",
     "output_type": "stream",
     "text": [
      "100%|██████████| 1776388/1776388 [00:06<00:00, 255666.48it/s]\n"
     ]
    },
    {
     "name": "stdout",
     "output_type": "stream",
     "text": [
      "Processing file: /n/data1/hms/dbmi/oconnor/lab/shz311/pangenome/Graph_objs/chr8.pkl\n"
     ]
    },
    {
     "name": "stderr",
     "output_type": "stream",
     "text": [
      "100%|██████████| 1573161/1573161 [00:05<00:00, 283243.11it/s]\n"
     ]
    },
    {
     "name": "stdout",
     "output_type": "stream",
     "text": [
      "Processing file: /n/data1/hms/dbmi/oconnor/lab/shz311/pangenome/Graph_objs/chr9.pkl\n"
     ]
    },
    {
     "name": "stderr",
     "output_type": "stream",
     "text": [
      "100%|██████████| 1345245/1345245 [00:05<00:00, 248619.01it/s]\n"
     ]
    },
    {
     "name": "stdout",
     "output_type": "stream",
     "text": [
      "Processing file: /n/data1/hms/dbmi/oconnor/lab/shz311/pangenome/Graph_objs/chr10.pkl\n"
     ]
    },
    {
     "name": "stderr",
     "output_type": "stream",
     "text": [
      "100%|██████████| 1458315/1458315 [00:05<00:00, 280673.20it/s]\n"
     ]
    },
    {
     "name": "stdout",
     "output_type": "stream",
     "text": [
      "Processing file: /n/data1/hms/dbmi/oconnor/lab/shz311/pangenome/Graph_objs/chr11.pkl\n"
     ]
    },
    {
     "name": "stderr",
     "output_type": "stream",
     "text": [
      "100%|██████████| 1354799/1354799 [00:06<00:00, 222050.20it/s]\n"
     ]
    },
    {
     "name": "stdout",
     "output_type": "stream",
     "text": [
      "Processing file: /n/data1/hms/dbmi/oconnor/lab/shz311/pangenome/Graph_objs/chr12.pkl\n"
     ]
    },
    {
     "name": "stderr",
     "output_type": "stream",
     "text": [
      "100%|██████████| 1324936/1324936 [00:05<00:00, 227929.81it/s]\n"
     ]
    },
    {
     "name": "stdout",
     "output_type": "stream",
     "text": [
      "Processing file: /n/data1/hms/dbmi/oconnor/lab/shz311/pangenome/Graph_objs/chr13.pkl\n"
     ]
    },
    {
     "name": "stderr",
     "output_type": "stream",
     "text": [
      "100%|██████████| 999631/999631 [00:04<00:00, 233782.97it/s]\n"
     ]
    },
    {
     "name": "stdout",
     "output_type": "stream",
     "text": [
      "Processing file: /n/data1/hms/dbmi/oconnor/lab/shz311/pangenome/Graph_objs/chr14.pkl\n"
     ]
    },
    {
     "name": "stderr",
     "output_type": "stream",
     "text": [
      "100%|██████████| 941745/941745 [00:03<00:00, 253036.83it/s]\n"
     ]
    },
    {
     "name": "stdout",
     "output_type": "stream",
     "text": [
      "Processing file: /n/data1/hms/dbmi/oconnor/lab/shz311/pangenome/Graph_objs/chr15.pkl\n"
     ]
    },
    {
     "name": "stderr",
     "output_type": "stream",
     "text": [
      "100%|██████████| 902132/902132 [00:04<00:00, 212282.62it/s]\n"
     ]
    },
    {
     "name": "stdout",
     "output_type": "stream",
     "text": [
      "Processing file: /n/data1/hms/dbmi/oconnor/lab/shz311/pangenome/Graph_objs/chr16.pkl\n"
     ]
    },
    {
     "name": "stderr",
     "output_type": "stream",
     "text": [
      "100%|██████████| 1065505/1065505 [00:04<00:00, 261373.99it/s]\n"
     ]
    },
    {
     "name": "stdout",
     "output_type": "stream",
     "text": [
      "Processing file: /n/data1/hms/dbmi/oconnor/lab/shz311/pangenome/Graph_objs/chr17.pkl\n"
     ]
    },
    {
     "name": "stderr",
     "output_type": "stream",
     "text": [
      "100%|██████████| 919347/919347 [00:03<00:00, 245248.65it/s]\n"
     ]
    },
    {
     "name": "stdout",
     "output_type": "stream",
     "text": [
      "Processing file: /n/data1/hms/dbmi/oconnor/lab/shz311/pangenome/Graph_objs/chr18.pkl\n"
     ]
    },
    {
     "name": "stderr",
     "output_type": "stream",
     "text": [
      "100%|██████████| 823987/823987 [00:02<00:00, 295182.45it/s]\n"
     ]
    },
    {
     "name": "stdout",
     "output_type": "stream",
     "text": [
      "Processing file: /n/data1/hms/dbmi/oconnor/lab/shz311/pangenome/Graph_objs/chr19.pkl\n"
     ]
    },
    {
     "name": "stderr",
     "output_type": "stream",
     "text": [
      "100%|██████████| 835690/835690 [00:03<00:00, 252340.46it/s]\n"
     ]
    },
    {
     "name": "stdout",
     "output_type": "stream",
     "text": [
      "Processing file: /n/data1/hms/dbmi/oconnor/lab/shz311/pangenome/Graph_objs/chr20.pkl\n"
     ]
    },
    {
     "name": "stderr",
     "output_type": "stream",
     "text": [
      "100%|██████████| 715024/715024 [00:02<00:00, 309509.80it/s]\n"
     ]
    },
    {
     "name": "stdout",
     "output_type": "stream",
     "text": [
      "Processing file: /n/data1/hms/dbmi/oconnor/lab/shz311/pangenome/Graph_objs/chr21.pkl\n"
     ]
    },
    {
     "name": "stderr",
     "output_type": "stream",
     "text": [
      "100%|██████████| 512977/512977 [00:01<00:00, 329111.13it/s]\n"
     ]
    },
    {
     "name": "stdout",
     "output_type": "stream",
     "text": [
      "Processing file: /n/data1/hms/dbmi/oconnor/lab/shz311/pangenome/Graph_objs/chr22.pkl\n"
     ]
    },
    {
     "name": "stderr",
     "output_type": "stream",
     "text": [
      "100%|██████████| 501422/501422 [00:01<00:00, 310886.49it/s]\n"
     ]
    }
   ],
   "source": [
    "for i in range(1, 23):\n",
    "    graph_obj_path = f\"{graph_obj_dir}/chr{i}.pkl\"\n",
    "    print(f\"Processing file: {graph_obj_path}\")\n",
    "    G, walks, walk_sample_names = load_graph_from_pkl(graph_obj_path)\n",
    "\n",
    "    allele_count_dict = G.allele_count()\n",
    "    allele_length_dict = G.allele_length()\n",
    "    common_variants = []\n",
    "    non_linear_common_variants = []\n",
    "    common_large_variants = []\n",
    "    non_linear_common_large_variants = []\n",
    "    for edge in tqdm(G.sorted_variant_edge(exclude_terminus=True)):\n",
    "        u, v = edge\n",
    "        ref_ac, alt_ac = allele_count_dict[edge]\n",
    "        allele_length = allele_length_dict[edge]\n",
    "        if min(ref_ac, alt_ac) > 5:\n",
    "            common_variants.append(edge)\n",
    "        if min(ref_ac, alt_ac) > 5 and G.nodes[v]['on_reference_path'] == 0:\n",
    "            non_linear_common_variants.append(edge)\n",
    "        if min(ref_ac, alt_ac) > 5 and allele_length > 100:\n",
    "            common_large_variants.append(edge)\n",
    "        if min(ref_ac, alt_ac) > 5 and allele_length > 100 and G.nodes[v]['on_reference_path'] == 0:\n",
    "            non_linear_common_large_variants.append(edge)\n",
    "    \n",
    "    common_var_df = prepare_dataframe(variant_edges_summary(G, common_variants))\n",
    "    nonlinear_common_var_df = prepare_dataframe(variant_edges_summary(G, non_linear_common_variants))\n",
    "    common_large_var_df = prepare_dataframe(variant_edges_summary(G, common_large_variants))\n",
    "    nonlinear_common_large_var_df = prepare_dataframe(variant_edges_summary(G, non_linear_common_large_variants))\n",
    "\n",
    "    common_var_summary = pd.DataFrame(\n",
    "        {\n",
    "        \"Variant Type\": common_var_df['Variant Type'], \n",
    "        \"Count_Common_Variants\": common_var_df['Count'], \n",
    "        \"Count_Nonlinear_Common_Variants\": nonlinear_common_var_df['Count'], \n",
    "        \"Count_Common_Large_Variants\": common_large_var_df['Count'], \n",
    "        \"Count_Nonlinear_Common_Large_Variants\": nonlinear_common_large_var_df['Count'], \n",
    "        }\n",
    "    )\n",
    "    common_var_summary.to_csv(f\"../Stats_update/common_variant_summary_for_chr{i}.csv\")"
   ]
  },
  {
   "cell_type": "code",
   "execution_count": 23,
   "id": "76b3dfe2",
   "metadata": {},
   "outputs": [],
   "source": [
    "common_var_summary = pd.DataFrame(\n",
    "    {\n",
    "    \"Variant Type\": common_var_df['Variant Type'], \n",
    "    \"Count_Common_Variants\": common_var_df['Count'], \n",
    "    \"Count_Nonlinear_Common_Variants\": nonlinear_common_var_df['Count'], \n",
    "    \"Count_Common_Large_Variants\": common_large_var_df['Count'], \n",
    "    \"Count_Nonlinear_Common_Large_Variants\": nonlinear_common_large_var_df['Count'], \n",
    "    }\n",
    "    )\n",
    "common_var_summary.to_csv(f\"../Stats_update/common_variant_summary_for_chr6.csv\")"
   ]
  },
  {
   "cell_type": "markdown",
   "id": "292a340c",
   "metadata": {},
   "source": [
    "Variant Summary by Bubble/Region"
   ]
  },
  {
   "cell_type": "code",
   "execution_count": 16,
   "id": "initial_id",
   "metadata": {
    "collapsed": false
   },
   "outputs": [],
   "source": [
    "def prepare_dataframe(var_dict):\n",
    "    return pd.DataFrame({\n",
    "        \"Variant Type\": ['Snps', 'Mnps', 'Insertion', 'Deletion', 'Replacement', 'Inversion', 'Back', 'Forward', 'Crossing', 'Total'],\n",
    "        \"Count\": [\n",
    "                  var_dict.get('snps', 0),\n",
    "                  var_dict.get('mnps', 0),\n",
    "                  var_dict.get('insertion', 0),\n",
    "                  var_dict.get('forward_edges', 0),\n",
    "                  var_dict.get('replacement', 0),\n",
    "                  var_dict.get('inversion', 0),\n",
    "                  var_dict.get('back_edges', 0),\n",
    "                  var_dict.get('forward_edges', 0),\n",
    "                  var_dict.get('crossing_edges', 0),\n",
    "                  var_dict.get('total', 0),\n",
    "        ]\n",
    "    })\n",
    "\n",
    "def combine_dataframe(var_easy_df, var_difficult_df, var_segdup_df, var_total_df):\n",
    "    return pd.DataFrame(\n",
    "    {\n",
    "    \"Variant Type\": var_easy_df['Variant Type'], \n",
    "    \"Count_Easy_Region\": var_easy_df['Count'], \n",
    "    \"Count_Difficult_Region_without_Segdup\": var_difficult_df['Count'], \n",
    "    \"Count_Segdup_Region\": var_segdup_df['Count'],\n",
    "    \"Count_Total\": var_total_df['Count']\n",
    "    }\n",
    "    )"
   ]
  },
  {
   "cell_type": "code",
   "execution_count": 3,
   "id": "9a102734",
   "metadata": {},
   "outputs": [
    {
     "name": "stdout",
     "output_type": "stream",
     "text": [
      "Current file:  /n/data1/hms/dbmi/oconnor/lab/shz311/pangenome/Graph_obj_chr/chr6.pkl\n"
     ]
    }
   ],
   "source": [
    "#within_only = True\n",
    "chr_id = \"chr6\"\n",
    "\n",
    "graph_obj_path = f\"/n/data1/hms/dbmi/oconnor/lab/shz311/pangenome/Graph_obj_chr/{chr_id}.pkl\"\n",
    "snarl_path = f\"/n/data1/hms/dbmi/oconnor/lab/shz311/pangenome/Data/chr_snarls/{chr_id}.snarls\"\n",
    "\n",
    "C4_1 = ('61728301', '61729279')\n",
    "C4_2 = ('61729285', '61729826')\n",
    "MICA = ('61702425', '61716574')\n",
    "HLAW = ('61632957', '61635637')\n",
    "HLAY = ('61637118', '61637368')\n",
    "\n",
    "print(\"Current file: \", graph_obj_path)\n",
    "G, walks, walk_sample_names = load_graph_from_pkl(graph_obj_path)\n",
    "bubble_dict, node_partition = extract_node_bubble_partition_from_snarl(snarl_path)\n",
    "var_dict_within, var_dict_crossing = get_variants_for_bubbles(G, node_partition)\n",
    "\n",
    "C4_1_vars = var_dict_within[C4_1]\n",
    "C4_2_vars = var_dict_within[C4_2]\n",
    "MICA_vars = var_dict_within[MICA]\n",
    "HLAW_vars = var_dict_within[HLAW]\n",
    "HLAY_vars = var_dict_within[HLAY]\n",
    "\n",
    "C4_1_df = prepare_dataframe(variant_edges_summary(G, C4_1_vars))\n",
    "C4_2_df = prepare_dataframe(variant_edges_summary(G, C4_2_vars))\n",
    "MICA_df = prepare_dataframe(variant_edges_summary(G, MICA_vars))\n",
    "HLAW_df = prepare_dataframe(variant_edges_summary(G, HLAW_vars))\n",
    "HLAY_df = prepare_dataframe(variant_edges_summary(G, HLAY_vars))\n",
    "\n",
    "combined_df = pd.DataFrame(\n",
    "    {\n",
    "    \"Variant Type\": C4_1_df['Variant Type'], \n",
    "    \"Count_C4_1\": C4_1_df['Count'], \n",
    "    \"Count_C4_2\": C4_2_df['Count'], \n",
    "    \"Count_MICA\": MICA_df['Count'],\n",
    "    \"Count_HLAW\": HLAW_df['Count'],\n",
    "    \"Count_HLAY\": HLAY_df['Count'],\n",
    "    }\n",
    "    )\n",
    "\n",
    "combined_df.to_csv(f\"../Stats_update/variant_summary_for_{chr_id}_complex_bubbles.csv\")"
   ]
  },
  {
   "cell_type": "code",
   "execution_count": 3,
   "id": "2e1cdbb7d065a32d",
   "metadata": {
    "collapsed": false
   },
   "outputs": [
    {
     "name": "stdout",
     "output_type": "stream",
     "text": [
      "Current file:  /n/data1/hms/dbmi/oconnor/lab/shz311/pangenome/Graph_obj_chr/chr1.pkl\n",
      "Current file:  /n/data1/hms/dbmi/oconnor/lab/shz311/pangenome/Graph_obj_chr/chr2.pkl\n",
      "Current file:  /n/data1/hms/dbmi/oconnor/lab/shz311/pangenome/Graph_obj_chr/chr3.pkl\n",
      "Current file:  /n/data1/hms/dbmi/oconnor/lab/shz311/pangenome/Graph_obj_chr/chr4.pkl\n",
      "Current file:  /n/data1/hms/dbmi/oconnor/lab/shz311/pangenome/Graph_obj_chr/chr5.pkl\n",
      "Current file:  /n/data1/hms/dbmi/oconnor/lab/shz311/pangenome/Graph_obj_chr/chr6.pkl\n",
      "Current file:  /n/data1/hms/dbmi/oconnor/lab/shz311/pangenome/Graph_obj_chr/chr7.pkl\n",
      "Current file:  /n/data1/hms/dbmi/oconnor/lab/shz311/pangenome/Graph_obj_chr/chr8.pkl\n",
      "Current file:  /n/data1/hms/dbmi/oconnor/lab/shz311/pangenome/Graph_obj_chr/chr9.pkl\n",
      "Current file:  /n/data1/hms/dbmi/oconnor/lab/shz311/pangenome/Graph_obj_chr/chr10.pkl\n",
      "Current file:  /n/data1/hms/dbmi/oconnor/lab/shz311/pangenome/Graph_obj_chr/chr11.pkl\n",
      "Current file:  /n/data1/hms/dbmi/oconnor/lab/shz311/pangenome/Graph_obj_chr/chr12.pkl\n",
      "Current file:  /n/data1/hms/dbmi/oconnor/lab/shz311/pangenome/Graph_obj_chr/chr13.pkl\n",
      "Current file:  /n/data1/hms/dbmi/oconnor/lab/shz311/pangenome/Graph_obj_chr/chr14.pkl\n",
      "Current file:  /n/data1/hms/dbmi/oconnor/lab/shz311/pangenome/Graph_obj_chr/chr15.pkl\n",
      "Current file:  /n/data1/hms/dbmi/oconnor/lab/shz311/pangenome/Graph_obj_chr/chr16.pkl\n",
      "Current file:  /n/data1/hms/dbmi/oconnor/lab/shz311/pangenome/Graph_obj_chr/chr17.pkl\n",
      "Current file:  /n/data1/hms/dbmi/oconnor/lab/shz311/pangenome/Graph_obj_chr/chr18.pkl\n",
      "Current file:  /n/data1/hms/dbmi/oconnor/lab/shz311/pangenome/Graph_obj_chr/chr19.pkl\n",
      "Current file:  /n/data1/hms/dbmi/oconnor/lab/shz311/pangenome/Graph_obj_chr/chr20.pkl\n",
      "Current file:  /n/data1/hms/dbmi/oconnor/lab/shz311/pangenome/Graph_obj_chr/chr21.pkl\n",
      "Current file:  /n/data1/hms/dbmi/oconnor/lab/shz311/pangenome/Graph_obj_chr/chr22.pkl\n",
      "Current file:  /n/data1/hms/dbmi/oconnor/lab/shz311/pangenome/Graph_obj_chr/chrEBV.pkl\n"
     ]
    }
   ],
   "source": [
    "#within_only = True\n",
    "exclude_terminus = False\n",
    "\n",
    "root = \"/n/data1/hms/dbmi/oconnor/lab/shz311/pangenome/Graph_obj_chr\"\n",
    "other_difficult_bed = \"/n/data1/hms/dbmi/oconnor/lab/shz311/pangenome/Region_files/GRCh38_subtract_difficult_segdup.bed\"\n",
    "easy_bed = \"/n/data1/hms/dbmi/oconnor/lab/shz311/pangenome/Region_files/GRCh38_notinalldifficultregions.bed\"\n",
    "segdup_bed = \"/n/data1/hms/dbmi/oconnor/lab/shz311/pangenome/Region_files/GRCh38_segdups.bed\"\n",
    "graph_list = os.listdir(root)\n",
    "graph_list.sort()\n",
    "graph_list.sort(key=len)\n",
    "#graph_list = graph_list[20:21]\n",
    "var_summary_difficult = {}\n",
    "var_summary_easy = {}\n",
    "var_summary_segdup = {}\n",
    "var_summary_total = {}\n",
    "for graph in graph_list:\n",
    "    file_path = os.path.join(root, graph)\n",
    "    print(\"Current file: \", file_path)\n",
    "    chr_id = graph.split('.')[0]\n",
    "    G, walks, walk_sample_names = load_graph_from_pkl(file_path)\n",
    "    var_dict_difficult = variant_summary_result_by_region(G, other_difficult_bed, chr_id, exclude_terminus)\n",
    "    var_dict_easy = variant_summary_result_by_region(G, easy_bed, chr_id, exclude_terminus)\n",
    "    var_dict_segdup = variant_summary_result_by_region(G, segdup_bed, chr_id, exclude_terminus)\n",
    "    var_dict_total = variant_summary_result_by_region(G, exclude_terminus=exclude_terminus)\n",
    "\n",
    "    var_diff_df_temp = prepare_dataframe(var_dict_difficult)\n",
    "    var_easy_df_temp = prepare_dataframe(var_dict_easy)\n",
    "    var_segdup_df_temp = prepare_dataframe(var_dict_segdup)\n",
    "    var_total_df_temp = prepare_dataframe(var_dict_total)\n",
    "\n",
    "    var_df_temp = combine_dataframe(var_easy_df_temp, var_diff_df_temp, var_segdup_df_temp, var_total_df_temp)\n",
    "    if exclude_terminus:\n",
    "        var_df_temp.to_csv(f\"../Stats_update/variant_summary_for_regions_{chr_id}_no_terminus.csv\")\n",
    "    else:\n",
    "        var_df_temp.to_csv(f\"../Stats_update/variant_summary_for_regions_{chr_id}.csv\")\n",
    "\n",
    "    for key in var_dict_difficult.keys():\n",
    "        var_summary_difficult[key] = var_summary_difficult.get(key, 0) + var_dict_difficult[key]\n",
    "    for key in var_dict_easy.keys():\n",
    "        var_summary_easy[key] = var_summary_easy.get(key, 0) + var_dict_easy[key]\n",
    "    for key in var_dict_segdup.keys():\n",
    "        var_summary_segdup[key] = var_summary_segdup.get(key, 0) + var_dict_segdup[key]\n",
    "    for key in var_dict_total.keys():\n",
    "        var_summary_total[key] = var_summary_total.get(key, 0) + var_dict_total[key]\n",
    "\n",
    "var_difficult_df = prepare_dataframe(var_summary_difficult)\n",
    "var_easy_df = prepare_dataframe(var_summary_easy)\n",
    "var_segdup_df = prepare_dataframe(var_summary_segdup)\n",
    "var_total_df = prepare_dataframe(var_summary_total)\n",
    "\n",
    "var_df = combine_dataframe(var_easy_df, var_difficult_df, var_segdup_df, var_total_df)\n",
    "if exclude_terminus:\n",
    "    var_df.to_csv(f\"../Stats_update/variant_summary_for_regions_entire_no_terminus.csv\")\n",
    "else:\n",
    "    var_df.to_csv(\"../Stats_update/variant_summary_for_regions_entire.csv\")"
   ]
  },
  {
   "cell_type": "markdown",
   "id": "08e5ecf9",
   "metadata": {},
   "source": [
    "Debug"
   ]
  },
  {
   "cell_type": "code",
   "execution_count": 1,
   "id": "3f8d1716",
   "metadata": {},
   "outputs": [],
   "source": [
    "from utils import load_graph_from_pkl\n",
    "from graph import PangenomeGraph\n",
    "from evaluating_functions import *\n",
    "import os\n",
    "import pandas as pd"
   ]
  },
  {
   "cell_type": "code",
   "execution_count": 4,
   "id": "a880200a",
   "metadata": {},
   "outputs": [
    {
     "name": "stdout",
     "output_type": "stream",
     "text": [
      "Current file:  /n/data1/hms/dbmi/oconnor/lab/shz311/pangenome/Graph_obj_chr/chr21.pkl\n"
     ]
    },
    {
     "name": "stdout",
     "output_type": "stream",
     "text": [
      "Number of variant outliers found: 1\n",
      "Number of variant outliers found: 1\n",
      "[[('43911089_+', '43911088_+'), (0.0, 40033198)]]\n"
     ]
    }
   ],
   "source": [
    "#within_only = True\n",
    "exclude_terminus = True\n",
    "\n",
    "root = \"/n/data1/hms/dbmi/oconnor/lab/shz311/pangenome/Graph_obj_chr\"\n",
    "other_difficult_bed = \"/n/data1/hms/dbmi/oconnor/lab/shz311/pangenome/Region_files/GRCh38_subtract_difficult_segdup.bed\"\n",
    "easy_bed = \"/n/data1/hms/dbmi/oconnor/lab/shz311/pangenome/Region_files/GRCh38_notinalldifficultregions.bed\"\n",
    "segdup_bed = \"/n/data1/hms/dbmi/oconnor/lab/shz311/pangenome/Region_files/GRCh38_segdups.bed\"\n",
    "graph_list = os.listdir(root)\n",
    "graph_list.sort()\n",
    "graph_list.sort(key=len)\n",
    "graph_list = graph_list[20:21]\n",
    "var_summary_difficult = {}\n",
    "var_summary_easy = {}\n",
    "var_summary_segdup = {}\n",
    "var_summary_total = {}\n",
    "for graph in graph_list:\n",
    "    file_path = os.path.join(root, graph)\n",
    "    print(\"Current file: \", file_path)\n",
    "    chr_id = graph.split('.')[0]\n",
    "    G, walks, walk_sample_names = load_graph_from_pkl(file_path)\n",
    "    var_outliers = variant_outliers(G, [easy_bed, other_difficult_bed, segdup_bed], chr_id, exclude_terminus)\n",
    "    var_pos_pair = [[outlier, (G.nodes[outlier[0]]['position'], G.nodes[outlier[1]]['position'])] for outlier in var_outliers]\n",
    "\n",
    "    print(f\"Number of variant outliers found: {len(var_outliers)}\")\n",
    "    print(f\"Number of variant outliers found: {len([var for var in var_outliers if G.get_variant_position(var) == 0])}\")\n",
    "    print(var_pos_pair[:10])"
   ]
  },
  {
   "cell_type": "code",
   "execution_count": 8,
   "id": "6eb625cc",
   "metadata": {},
   "outputs": [
    {
     "data": {
      "text/plain": [
       "(False, False, True)"
      ]
     },
     "execution_count": 8,
     "metadata": {},
     "output_type": "execute_result"
    }
   ],
   "source": [
    "G.is_insertion(var_outliers[0]), G.is_back_edge(var_outliers[0]), G.is_replacement(var_outliers[0])"
   ]
  },
  {
   "cell_type": "code",
   "execution_count": 11,
   "id": "f9cc3ad3",
   "metadata": {},
   "outputs": [
    {
     "data": {
      "text/plain": [
       "(40033182, 1)"
      ]
     },
     "execution_count": 11,
     "metadata": {},
     "output_type": "execute_result"
    }
   ],
   "source": [
    "ref, alt, _, _ = G.ref_alt_alleles(var_outliers[0])\n",
    "len(ref), len(alt)"
   ]
  },
  {
   "cell_type": "code",
   "execution_count": 14,
   "id": "c602cd4a",
   "metadata": {},
   "outputs": [
    {
     "name": "stdout",
     "output_type": "stream",
     "text": [
      "CAAGATGGCC\n"
     ]
    }
   ],
   "source": [
    "print(ref[-10:])"
   ]
  },
  {
   "cell_type": "code",
   "execution_count": 15,
   "id": "f709803d",
   "metadata": {},
   "outputs": [
    {
     "data": {
      "text/plain": [
       "True"
      ]
     },
     "execution_count": 15,
     "metadata": {},
     "output_type": "execute_result"
    }
   ],
   "source": [
    "'43911088_+' in G.reference_path"
   ]
  },
  {
   "cell_type": "markdown",
   "id": "d7883878",
   "metadata": {},
   "source": [
    "Visualization"
   ]
  },
  {
   "cell_type": "code",
   "execution_count": 4,
   "id": "d750cbd7",
   "metadata": {},
   "outputs": [],
   "source": []
  }
 ],
 "metadata": {
  "kernelspec": {
   "display_name": "Python 3",
   "language": "python",
   "name": "python3"
  },
  "language_info": {
   "codemirror_mode": {
    "name": "ipython",
    "version": 3
   },
   "file_extension": ".py",
   "mimetype": "text/x-python",
   "name": "python",
   "nbconvert_exporter": "python",
   "pygments_lexer": "ipython3",
   "version": "3.10.0"
  }
 },
 "nbformat": 4,
 "nbformat_minor": 5
}
