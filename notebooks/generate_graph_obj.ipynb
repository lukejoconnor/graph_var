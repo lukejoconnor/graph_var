{
 "cells": [
  {
   "cell_type": "code",
   "execution_count": 1,
   "id": "initial_id",
   "metadata": {
    "collapsed": true
   },
   "outputs": [],
   "source": [
    "from graph_var.evaluating_functions import *\n",
    "from graph_var.graph import PangenomeGraph\n",
    "from graph_var.utils import *\n",
    "import os\n",
    "\n",
    "gfa_dir = '/n/data1/hms/dbmi/oconnor/lab/shz311/pangenome/Data/chromosome_gfa'\n",
    "graph_obj_dir = '/n/data1/hms/dbmi/oconnor/lab/shz311/pangenome/Graph_objs'"
   ]
  },
  {
   "cell_type": "code",
   "execution_count": 4,
   "id": "f3a83efb",
   "metadata": {},
   "outputs": [
    {
     "name": "stdout",
     "output_type": "stream",
     "text": [
      "[[(0, 1), True], [(0, 2), True], [(0, 3), True], [(0, 4), True], [(0, 5), True], [(0, 6), True], [(0, 7), True], [(0, 8), True], [(0, 9), True], [(1, 2), True], [(1, 3), True], [(1, 4), True], [(1, 5), True], [(1, 6), True], [(1, 7), True], [(1, 8), True], [(1, 9), True], [(2, 3), True], [(2, 4), True], [(2, 5), True], [(2, 6), True], [(2, 7), True], [(2, 8), True], [(2, 9), True], [(3, 4), True], [(3, 5), True], [(3, 6), True], [(3, 7), True], [(3, 8), True], [(3, 9), True], [(4, 5), True], [(4, 6), True], [(4, 7), True], [(4, 8), True], [(4, 9), True], [(5, 6), True], [(5, 7), True], [(5, 8), True], [(5, 9), True], [(6, 7), True], [(6, 8), True], [(6, 9), True], [(7, 8), True], [(7, 9), True], [(8, 9), True]]\n"
     ]
    }
   ],
   "source": [
    "def graphs_equal(graph1, graph2):\n",
    "    \"\"\"Check if graphs are equal.\n",
    "\n",
    "    Equality here means equal as Python objects (not isomorphism).\n",
    "    Node, edge and graph data must match.\n",
    "\n",
    "    Parameters\n",
    "    ----------\n",
    "    graph1, graph2 : graph\n",
    "\n",
    "    Returns\n",
    "    -------\n",
    "    bool\n",
    "        True if graphs are equal, False otherwise.\n",
    "    \"\"\"\n",
    "    return (\n",
    "        graph1.adj == graph2.adj\n",
    "        and graph1.nodes == graph2.nodes\n",
    "        and graph1.graph == graph2.graph\n",
    "    )\n",
    "\n",
    "bool_list = []\n",
    "num_test = 10\n",
    "for i in range(num_test):\n",
    "    G1, _, _ = load_graph_from_pkl(f\"/n/data1/hms/dbmi/oconnor/lab/shz311/pangenome/Graph_objs/chr21_test{i}.pkl\", compressed=False)\n",
    "    for j in range(i+1, num_test):\n",
    "        G2, _, _ = load_graph_from_pkl(f\"/n/data1/hms/dbmi/oconnor/lab/shz311/pangenome/Graph_objs/chr21_test{j}.pkl\", compressed=False)\n",
    "        bool_list.append([(i, j), graphs_equal(G1.reference_tree, G2.reference_tree)])\n",
    "\n",
    "print(bool_list)"
   ]
  },
  {
   "cell_type": "code",
   "execution_count": 3,
   "id": "8d29b711",
   "metadata": {},
   "outputs": [
    {
     "name": "stdout",
     "output_type": "stream",
     "text": [
      "Processing chr21...\n",
      "Reference walk: 9\n",
      "Num of binodes: 1304541\n",
      "Num of biedges: 1817516\n",
      "Assigning node directions\n",
      "Computing reference tree\n",
      "Computing branch points\n",
      "Computing positions\n",
      "Processing chr21...\n",
      "Reference walk: 9\n",
      "Num of binodes: 1304541\n",
      "Num of biedges: 1817516\n",
      "Assigning node directions\n",
      "Computing reference tree\n",
      "Computing branch points\n",
      "Computing positions\n",
      "Processing chr21...\n",
      "Reference walk: 9\n",
      "Num of binodes: 1304541\n",
      "Num of biedges: 1817516\n",
      "Assigning node directions\n",
      "Computing reference tree\n",
      "Computing branch points\n",
      "Computing positions\n",
      "Processing chr21...\n",
      "Reference walk: 9\n",
      "Num of binodes: 1304541\n",
      "Num of biedges: 1817516\n",
      "Assigning node directions\n",
      "Computing reference tree\n",
      "Computing branch points\n",
      "Computing positions\n",
      "Processing chr21...\n",
      "Reference walk: 9\n",
      "Num of binodes: 1304541\n",
      "Num of biedges: 1817516\n",
      "Assigning node directions\n",
      "Computing reference tree\n",
      "Computing branch points\n",
      "Computing positions\n",
      "Processing chr21...\n",
      "Reference walk: 9\n",
      "Num of binodes: 1304541\n",
      "Num of biedges: 1817516\n",
      "Assigning node directions\n",
      "Computing reference tree\n",
      "Computing branch points\n",
      "Computing positions\n",
      "Processing chr21...\n",
      "Reference walk: 9\n",
      "Num of binodes: 1304541\n",
      "Num of biedges: 1817516\n",
      "Assigning node directions\n",
      "Computing reference tree\n",
      "Computing branch points\n",
      "Computing positions\n",
      "Processing chr21...\n",
      "Reference walk: 9\n",
      "Num of binodes: 1304541\n",
      "Num of biedges: 1817516\n",
      "Assigning node directions\n",
      "Computing reference tree\n",
      "Computing branch points\n",
      "Computing positions\n",
      "Processing chr21...\n",
      "Reference walk: 9\n",
      "Num of binodes: 1304541\n",
      "Num of biedges: 1817516\n",
      "Assigning node directions\n",
      "Computing reference tree\n",
      "Computing branch points\n",
      "Computing positions\n",
      "Processing chr21...\n",
      "Reference walk: 9\n",
      "Num of binodes: 1304541\n",
      "Num of biedges: 1817516\n",
      "Assigning node directions\n",
      "Computing reference tree\n",
      "Computing branch points\n",
      "Computing positions\n"
     ]
    }
   ],
   "source": [
    "output_dir = graph_obj_dir\n",
    "for i in range(0, 10):\n",
    "    print(f\"Processing chr21...\")\n",
    "    gfa_path = f\"{gfa_dir}/chr21.gfa\"\n",
    "\n",
    "    G, walks, walk_sample_names = PangenomeGraph.from_gfa(gfa_path,\n",
    "                                                          return_walks=True,\n",
    "                                                          compressed=False)\n",
    "    chr_name = os.path.basename(gfa_path).split('.')[0]\n",
    "    save_path = os.path.join(output_dir, chr_name+f'_test{i}.pkl')\n",
    "    save_graph_to_pkl(G, walks, walk_sample_names, save_path)"
   ]
  },
  {
   "cell_type": "code",
   "execution_count": 2,
   "id": "f32ddc213e9a3a32",
   "metadata": {
    "collapsed": false
   },
   "outputs": [
    {
     "name": "stdout",
     "output_type": "stream",
     "text": [
      "Processing chr1...\n",
      "Reference walk: 11\n",
      "Num of binodes: 6323654\n",
      "Num of biedges: 8740153\n",
      "Assigning node directions\n",
      "Computing reference tree\n",
      "Computing branch points\n",
      "Computing positions\n",
      "Processing chr2...\n",
      "Reference walk: 12\n",
      "Num of binodes: 6450773\n",
      "Num of biedges: 8924099\n",
      "Assigning node directions\n",
      "Computing reference tree\n",
      "Computing branch points\n",
      "Computing positions\n",
      "Processing chr3...\n",
      "Reference walk: 7\n",
      "Num of binodes: 4983257\n",
      "Num of biedges: 6888314\n",
      "Assigning node directions\n",
      "Computing reference tree\n",
      "Computing branch points\n",
      "Computing positions\n",
      "Processing chr4...\n",
      "Reference walk: 2\n",
      "Num of binodes: 5304202\n",
      "Num of biedges: 7332383\n",
      "Assigning node directions\n",
      "Computing reference tree\n",
      "Computing branch points\n",
      "Computing positions\n",
      "Processing chr5...\n",
      "Reference walk: 3\n",
      "Num of binodes: 4985241\n",
      "Num of biedges: 6933402\n",
      "Assigning node directions\n",
      "Computing reference tree\n",
      "Computing branch points\n",
      "Computing positions\n",
      "Processing chr6...\n",
      "Reference walk: 3\n",
      "Num of binodes: 4517930\n",
      "Num of biedges: 6258690\n",
      "Assigning node directions\n",
      "Computing reference tree\n",
      "Computing branch points\n",
      "Computing positions\n",
      "Processing chr7...\n",
      "Reference walk: 5\n",
      "Num of binodes: 4623766\n",
      "Num of biedges: 6400147\n",
      "Assigning node directions\n",
      "Computing reference tree\n",
      "Computing branch points\n",
      "Computing positions\n",
      "Processing chr8...\n",
      "Reference walk: 6\n",
      "Num of binodes: 4135502\n",
      "Num of biedges: 5708615\n",
      "Assigning node directions\n",
      "Computing reference tree\n",
      "Computing branch points\n",
      "Computing positions\n",
      "Processing chr9...\n",
      "Reference walk: 6\n",
      "Num of binodes: 3506987\n",
      "Num of biedges: 4852230\n",
      "Assigning node directions\n",
      "Computing reference tree\n",
      "Computing branch points\n",
      "Computing positions\n",
      "Processing chr10...\n",
      "Reference walk: 5\n",
      "Num of binodes: 3794653\n",
      "Num of biedges: 5252967\n",
      "Assigning node directions\n",
      "Computing reference tree\n",
      "Computing branch points\n",
      "Computing positions\n",
      "Processing chr11...\n",
      "Reference walk: 4\n",
      "Num of binodes: 3537605\n",
      "Num of biedges: 4892403\n",
      "Assigning node directions\n",
      "Computing reference tree\n",
      "Computing branch points\n",
      "Computing positions\n",
      "Processing chr12...\n",
      "Reference walk: 2\n",
      "Num of binodes: 3408312\n",
      "Num of biedges: 4733247\n",
      "Assigning node directions\n",
      "Computing reference tree\n",
      "Computing branch points\n",
      "Computing positions\n",
      "Processing chr13...\n",
      "Reference walk: 1\n",
      "Num of binodes: 2604312\n",
      "Num of biedges: 3603941\n",
      "Assigning node directions\n",
      "Computing reference tree\n",
      "Computing branch points\n",
      "Computing positions\n",
      "Processing chr14...\n",
      "Reference walk: 2\n",
      "Num of binodes: 2420493\n",
      "Num of biedges: 3362217\n",
      "Assigning node directions\n",
      "Computing reference tree\n",
      "Computing branch points\n",
      "Computing positions\n",
      "Processing chr15...\n",
      "Reference walk: 3\n",
      "Num of binodes: 2342523\n",
      "Num of biedges: 3244645\n",
      "Assigning node directions\n",
      "Computing reference tree\n",
      "Computing branch points\n",
      "Computing positions\n",
      "Processing chr16...\n",
      "Reference walk: 5\n",
      "Num of binodes: 2784694\n",
      "Num of biedges: 3850191\n",
      "Assigning node directions\n",
      "Computing reference tree\n",
      "Computing branch points\n",
      "Computing positions\n",
      "Processing chr17...\n",
      "Reference walk: 5\n",
      "Num of binodes: 2334393\n",
      "Num of biedges: 3253724\n",
      "Assigning node directions\n",
      "Computing reference tree\n",
      "Computing branch points\n",
      "Computing positions\n",
      "Processing chr18...\n",
      "Reference walk: 3\n",
      "Num of binodes: 2151620\n",
      "Num of biedges: 2975606\n",
      "Assigning node directions\n",
      "Computing reference tree\n",
      "Computing branch points\n",
      "Computing positions\n",
      "Processing chr19...\n",
      "Reference walk: 3\n",
      "Num of binodes: 2097024\n",
      "Num of biedges: 2932711\n",
      "Assigning node directions\n",
      "Computing reference tree\n",
      "Computing branch points\n",
      "Computing positions\n",
      "Processing chr20...\n",
      "Reference walk: 7\n",
      "Num of binodes: 1859947\n",
      "Num of biedges: 2574969\n",
      "Assigning node directions\n",
      "Computing reference tree\n",
      "Computing branch points\n",
      "Computing positions\n",
      "Processing chr21...\n",
      "Reference walk: 9\n",
      "Num of binodes: 1304541\n",
      "Num of biedges: 1817516\n",
      "Assigning node directions\n",
      "Computing reference tree\n",
      "Computing branch points\n",
      "Computing positions\n",
      "Processing chr22...\n",
      "Reference walk: 1\n",
      "Num of binodes: 1279333\n",
      "Num of biedges: 1780739\n",
      "Assigning node directions\n",
      "Computing reference tree\n",
      "Computing branch points\n",
      "Computing positions\n",
      "Processing chrEBV...\n",
      "Reference walk: 0\n",
      "Num of binodes: 7014\n",
      "Num of biedges: 9990\n",
      "Assigning node directions\n",
      "Computing reference tree\n",
      "Computing branch points\n",
      "Computing positions\n"
     ]
    }
   ],
   "source": [
    "chr_list = list(range(1,23)) + ['EBV']\n",
    "#chr_list = [21]\n",
    "\n",
    "output_dir = graph_obj_dir\n",
    "\n",
    "for chr in chr_list:\n",
    "    print(f\"Processing chr{chr}...\")\n",
    "    gfa_path = f\"{gfa_dir}/chr{chr}.gfa\"\n",
    "\n",
    "    G, walks, walk_sample_names = PangenomeGraph.from_gfa(gfa_path,\n",
    "                                                          return_walks=True,\n",
    "                                                          compressed=False)\n",
    "    chr_name = os.path.basename(gfa_path).split('.')[0]\n",
    "    save_path = os.path.join(output_dir, chr_name+'.pkl')\n",
    "    save_graph_to_pkl(G, walks, walk_sample_names, save_path)"
   ]
  },
  {
   "cell_type": "code",
   "execution_count": 1,
   "id": "461d5509",
   "metadata": {},
   "outputs": [],
   "source": [
    "from evaluating_functions import *\n",
    "from utils import *\n",
    "import os\n",
    "\n",
    "graph_obj_dir = '/n/data1/hms/dbmi/oconnor/lab/shz311/pangenome/Graph_objs'\n",
    "vcf_dir = '/n/data1/hms/dbmi/oconnor/lab/shz311/pangenome/VCFs_update'"
   ]
  },
  {
   "cell_type": "code",
   "execution_count": 3,
   "id": "896160dc",
   "metadata": {},
   "outputs": [
    {
     "name": "stdout",
     "output_type": "stream",
     "text": [
      "Processing chr1...\n"
     ]
    },
    {
     "name": "stderr",
     "output_type": "stream",
     "text": [
      "100%|██████████| 2416515/2416515 [23:57<00:00, 1680.50it/s] \n"
     ]
    },
    {
     "name": "stdout",
     "output_type": "stream",
     "text": [
      "Processing chr2...\n"
     ]
    },
    {
     "name": "stderr",
     "output_type": "stream",
     "text": [
      "100%|██████████| 2473348/2473348 [37:28<00:00, 1100.20it/s] \n"
     ]
    },
    {
     "name": "stdout",
     "output_type": "stream",
     "text": [
      "Processing chr3...\n"
     ]
    },
    {
     "name": "stderr",
     "output_type": "stream",
     "text": [
      "100%|██████████| 1905058/1905058 [13:06<00:00, 2421.60it/s]\n"
     ]
    },
    {
     "name": "stdout",
     "output_type": "stream",
     "text": [
      "Processing chr4...\n"
     ]
    },
    {
     "name": "stderr",
     "output_type": "stream",
     "text": [
      "100%|██████████| 2028184/2028184 [14:58<00:00, 2257.19it/s]\n"
     ]
    },
    {
     "name": "stdout",
     "output_type": "stream",
     "text": [
      "Processing chr5...\n"
     ]
    },
    {
     "name": "stderr",
     "output_type": "stream",
     "text": [
      "100%|██████████| 1948169/1948169 [17:41<00:00, 1835.72it/s]\n"
     ]
    },
    {
     "name": "stdout",
     "output_type": "stream",
     "text": [
      "Processing chr6...\n"
     ]
    },
    {
     "name": "stderr",
     "output_type": "stream",
     "text": [
      "100%|██████████| 1740762/1740762 [13:17<00:00, 2183.53it/s]\n"
     ]
    },
    {
     "name": "stdout",
     "output_type": "stream",
     "text": [
      "Processing chr7...\n"
     ]
    },
    {
     "name": "stderr",
     "output_type": "stream",
     "text": [
      "100%|██████████| 1776388/1776388 [17:10<00:00, 1724.35it/s]\n"
     ]
    },
    {
     "name": "stdout",
     "output_type": "stream",
     "text": [
      "Processing chr8...\n"
     ]
    },
    {
     "name": "stderr",
     "output_type": "stream",
     "text": [
      "100%|██████████| 1573161/1573161 [31:13<00:00, 839.59it/s] \n"
     ]
    },
    {
     "name": "stdout",
     "output_type": "stream",
     "text": [
      "Processing chr9...\n"
     ]
    }
   ],
   "source": [
    "chr_list = list(range(1,23))\n",
    "#chr_list = [21]\n",
    "\n",
    "exclude_terminus = True\n",
    "\n",
    "for chr in chr_list:\n",
    "    print(f\"Processing chr{chr}...\")\n",
    "    graph_path = f\"{graph_obj_dir}/chr{chr}.pkl\"\n",
    "    if exclude_terminus:\n",
    "        vcf_path = f\"{vcf_dir}/graph_chr{chr}_no_terminus.vcf\"\n",
    "    else:\n",
    "        vcf_path = f\"{vcf_dir}/graph_chr{chr}.vcf\"\n",
    "    tree_path = f\"{vcf_dir}/graph_chr{chr}.tree\"\n",
    "\n",
    "    G, walks, walk_sample_names = load_graph_from_pkl(graph_path, compressed=False)\n",
    "    G.write_vcf(walks, walk_sample_names, vcf_path, tree_path, f\"chr{chr}\", exclude_terminus=exclude_terminus)"
   ]
  }
 ],
 "metadata": {
  "kernelspec": {
   "display_name": "Python 3",
   "language": "python",
   "name": "python3"
  },
  "language_info": {
   "codemirror_mode": {
    "name": "ipython",
    "version": 3
   },
   "file_extension": ".py",
   "mimetype": "text/x-python",
   "name": "python",
   "nbconvert_exporter": "python",
   "pygments_lexer": "ipython3",
   "version": "3.10.0"
  }
 },
 "nbformat": 4,
 "nbformat_minor": 5
}
