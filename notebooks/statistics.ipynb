{
 "cells": [
  {
   "cell_type": "code",
   "execution_count": 1,
   "id": "initial_id",
   "metadata": {
    "collapsed": true
   },
   "outputs": [],
   "source": [
    "from evaluating_functions import *\n",
    "from utils import node_complement\n",
    "from collections import defaultdict\n",
    "\n",
    "def identify_var_type(G, var_edge):\n",
    "    assert var_edge in G.variant_edges, f\"Input edge {var_edge} is not a variant edge.\"\n",
    "    if G.is_inversion(var_edge):\n",
    "        return 'inversion'\n",
    "    if G.is_insertion(var_edge):\n",
    "        return 'insertion'\n",
    "    if G.is_back_edge(var_edge):\n",
    "        return 'deletion'\n",
    "    if G.is_replacement(var_edge):\n",
    "        return 'replacement'\n",
    "    if G.is_snp(var_edge):\n",
    "        return 'snp'\n",
    "    if G.is_mnp(var_edge):\n",
    "        return 'mnp'    "
   ]
  },
  {
   "cell_type": "code",
   "execution_count": 14,
   "id": "d2e90715",
   "metadata": {},
   "outputs": [],
   "source": [
    "def is_back_edge(self, edge: tuple[str, str]) -> bool:\n",
    "    if self.is_inversion(edge):\n",
    "        return False\n",
    "    if self.is_in_tree(edge):\n",
    "        return False\n",
    "    branch_point = self.edges[edge]['branch_point']\n",
    "    return branch_point == edge[1]\n",
    "\n",
    "def graphs_equal(graph1, graph2):\n",
    "    \"\"\"Check if graphs are equal.\n",
    "\n",
    "    Equality here means equal as Python objects (not isomorphism).\n",
    "    Node, edge and graph data must match.\n",
    "\n",
    "    Parameters\n",
    "    ----------\n",
    "    graph1, graph2 : graph\n",
    "\n",
    "    Returns\n",
    "    -------\n",
    "    bool\n",
    "        True if graphs are equal, False otherwise.\n",
    "    \"\"\"\n",
    "    return (\n",
    "        graph1.adj == graph2.adj\n",
    "        and graph1.nodes == graph2.nodes\n",
    "        and graph1.graph == graph2.graph\n",
    "    )"
   ]
  },
  {
   "cell_type": "code",
   "execution_count": 2,
   "id": "db61bb70",
   "metadata": {},
   "outputs": [],
   "source": [
    "#AT_csv = pd.read_csv(\"../Bubble_result_update/bubble_variant_counts_chr1_AT.tsv\", sep='\\t')\n",
    "G, walks, walk_sample_names = load_graph_from_pkl(\"../Graph_obj_chr/chr1.pkl\", compressed=False)"
   ]
  },
  {
   "cell_type": "code",
   "execution_count": 3,
   "id": "e0d6b67b",
   "metadata": {},
   "outputs": [],
   "source": [
    "#G, walks, walk_sample_names = load_graph_from_pkl(\"../Graph_obj_chr/chr1.pkl\", compressed=False)\n",
    "G_past, walks, walk_sample_names = load_graph_from_pkl(\"../Graph_objs/chr1_graph.pkl.gz\", compressed=True)"
   ]
  },
  {
   "cell_type": "code",
   "execution_count": 4,
   "id": "34a21586",
   "metadata": {},
   "outputs": [
    {
     "data": {
      "text/plain": [
       "True"
      ]
     },
     "execution_count": 4,
     "metadata": {},
     "output_type": "execute_result"
    }
   ],
   "source": [
    "G.reference_path == G_past.reference_path"
   ]
  },
  {
   "cell_type": "code",
   "execution_count": 15,
   "id": "6cc3dba0",
   "metadata": {},
   "outputs": [
    {
     "data": {
      "text/plain": [
       "False"
      ]
     },
     "execution_count": 15,
     "metadata": {},
     "output_type": "execute_result"
    }
   ],
   "source": [
    "graphs_equal(G.reference_tree, G_past.reference_tree)"
   ]
  },
  {
   "cell_type": "code",
   "execution_count": 13,
   "id": "0c7bc57e",
   "metadata": {},
   "outputs": [
    {
     "data": {
      "text/plain": [
       "(2418733, 2418734)"
      ]
     },
     "execution_count": 13,
     "metadata": {},
     "output_type": "execute_result"
    }
   ],
   "source": [
    "len(G.variant_edges), len(G_past.variant_edges)"
   ]
  },
  {
   "cell_type": "code",
   "execution_count": 16,
   "id": "b992a36a",
   "metadata": {},
   "outputs": [
    {
     "data": {
      "text/plain": [
       "0"
      ]
     },
     "execution_count": 16,
     "metadata": {},
     "output_type": "execute_result"
    }
   ],
   "source": [
    "len([edge for edge in G.variant_edges if G.is_back_edge(edge)])"
   ]
  },
  {
   "cell_type": "code",
   "execution_count": 17,
   "id": "447e6668",
   "metadata": {},
   "outputs": [
    {
     "data": {
      "text/plain": [
       "9"
      ]
     },
     "execution_count": 17,
     "metadata": {},
     "output_type": "execute_result"
    }
   ],
   "source": [
    "len([edge for edge in G_past.variant_edges if G_past.is_back_edge(edge)])"
   ]
  },
  {
   "cell_type": "markdown",
   "id": "6c35c955",
   "metadata": {},
   "source": [
    "Example for method comparison"
   ]
  },
  {
   "cell_type": "code",
   "execution_count": 11,
   "id": "027e1f0a",
   "metadata": {},
   "outputs": [
    {
     "name": "stdout",
     "output_type": "stream",
     "text": [
      "('4240532', '4240540') {('4240535_-', '4240536_+'), ('4240539_-', '4240540_+'), ('4240537_-', '4240538_+'), ('4240537_+', '4240534_+')}\n"
     ]
    }
   ],
   "source": [
    "bubble_id = ('4240532', '4240540')\n",
    "var_list = eval(AT_csv[AT_csv['Bubble_ids'] == \"('4240532', '4240540')\"]['Within'].iloc[0])\n",
    "print(bubble_id, var_list)"
   ]
  },
  {
   "cell_type": "code",
   "execution_count": 13,
   "id": "610c091e",
   "metadata": {},
   "outputs": [
    {
     "data": {
      "text/plain": [
       "{('4240535_-', '4240536_+'): [('T', 'C'), 'snp'],\n",
       " ('4240539_-', '4240540_+'): [('T', 'CCTCCCTCCC'), 'replacement'],\n",
       " ('4240537_-', '4240538_+'): [('', 'CCTCCCTCC'), 'insertion'],\n",
       " ('4240537_+', '4240534_+'): [('C', 'G'), 'snp']}"
      ]
     },
     "execution_count": 13,
     "metadata": {},
     "output_type": "execute_result"
    }
   ],
   "source": [
    "var_allele_dict = {var:[G.ref_alt_alleles(var)[:2], identify_var_type(G, var)] for var in var_list}\n",
    "var_allele_dict"
   ]
  },
  {
   "cell_type": "code",
   "execution_count": 11,
   "id": "336531f6",
   "metadata": {},
   "outputs": [
    {
     "data": {
      "text/plain": [
       "{'4240532_+': 'C',\n",
       " '4240533_+': 'T',\n",
       " '4240534_-': 'C',\n",
       " '4240535_-': 'C',\n",
       " '4240536_+': 'G',\n",
       " '4240537_-': 'CCTCCCTCC',\n",
       " '4240538_+': 'T',\n",
       " '4240539_-': 'C',\n",
       " '4240540_+': 'TCCT'}"
      ]
     },
     "execution_count": 11,
     "metadata": {},
     "output_type": "execute_result"
    }
   ],
   "source": [
    "node_list = [G.positive_node(f\"42405{i}_+\") for i in range(32, 41)]\n",
    "node_dict = {node: G.nodes[node]['sequence'] for node in node_list}\n",
    "node_dict"
   ]
  },
  {
   "cell_type": "code",
   "execution_count": 3,
   "id": "b3b5c304",
   "metadata": {},
   "outputs": [],
   "source": [
    "def write_node_sequence_to_csv(G: PangenomeGraph, filename: str):\n",
    "    nodes = sorted([node[:-2] for node in list(G.nodes)])\n",
    "    sequences = [G.nodes[G.positive_node(node+'_+')]['sequence'] for node in nodes]\n",
    "    df = pd.DataFrame({'NodeID': nodes, 'Sequence': sequences})\n",
    "    df.to_csv(filename, index=False)"
   ]
  },
  {
   "cell_type": "code",
   "execution_count": 4,
   "id": "9c4040c8",
   "metadata": {},
   "outputs": [],
   "source": [
    "write_node_sequence_to_csv(G, '../Node/chr1.csv')"
   ]
  },
  {
   "cell_type": "code",
   "execution_count": 9,
   "id": "08a5bc70",
   "metadata": {},
   "outputs": [
    {
     "data": {
      "text/plain": [
       "(2416516, 2196451)"
      ]
     },
     "execution_count": 9,
     "metadata": {},
     "output_type": "execute_result"
    }
   ],
   "source": [
    "chr1_allelic_count = pd.read_csv(\"/n/data1/hms/dbmi/oconnor/lab/shz311/pangenome/Bubble_result_update/bubble_allele_summary_chr1.tsv\", sep='\\t')\n",
    "len({var for var_set in AT_csv['Within'] for var in eval(var_set)}), chr1_allelic_count['allele_count_vcf'].sum()"
   ]
  },
  {
   "cell_type": "code",
   "execution_count": null,
   "id": "059ce9dd",
   "metadata": {},
   "outputs": [],
   "source": []
  }
 ],
 "metadata": {
  "kernelspec": {
   "display_name": "Python 3",
   "language": "python",
   "name": "python3"
  },
  "language_info": {
   "codemirror_mode": {
    "name": "ipython",
    "version": 3
   },
   "file_extension": ".py",
   "mimetype": "text/x-python",
   "name": "python",
   "nbconvert_exporter": "python",
   "pygments_lexer": "ipython3",
   "version": "3.10.0"
  }
 },
 "nbformat": 4,
 "nbformat_minor": 5
}
