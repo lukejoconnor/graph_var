{
 "cells": [
  {
   "cell_type": "code",
   "id": "edb5379c-e40c-4ddc-9529-0baa787a0781",
   "metadata": {
    "ExecuteTime": {
     "end_time": "2024-11-20T18:54:32.368349Z",
     "start_time": "2024-11-20T18:54:32.149482Z"
    }
   },
   "source": [
    "from graph_var import PangenomeGraph\n",
    "import numpy as np\n",
    "import networkx as nx\n",
    "from graph_var import edge_complement, node_complement, group_walks_by_name\n"
   ],
   "outputs": [],
   "execution_count": 1
  },
  {
   "metadata": {
    "ExecuteTime": {
     "end_time": "2024-11-20T18:49:18.418616Z",
     "start_time": "2024-11-20T18:48:54.246560Z"
    }
   },
   "cell_type": "code",
   "source": [
    "gfa_file = \"/Users/loconnor/Downloads/smaller_sub.gfa\"\n",
    "# gfa_file = \"/Users/loconnor/Downloads/grch38_chr20.gfa\"\n",
    "# gfa_file = \"../data/c4a_with_inversion.gfa\"\n",
    "# gfa_file = \"../data/c4a.gfa\"\n",
    "G, walks, walk_sample_names = PangenomeGraph.from_gfa(gfa_file, reference_path_index=None, return_walks=True)"
   ],
   "id": "b3db65fa581984f7",
   "outputs": [
    {
     "name": "stdout",
     "output_type": "stream",
     "text": [
      "Reference walk: 1\n",
      "Num of binodes: 185471\n",
      "Num of biedges: 259618\n",
      "Assigning node directions\n",
      "Computing reference tree\n",
      "Computing branch points\n",
      "Computing positions\n"
     ]
    }
   ],
   "execution_count": 8
  },
  {
   "cell_type": "code",
   "id": "27a7955e",
   "metadata": {
    "ExecuteTime": {
     "end_time": "2024-11-20T18:49:18.423447Z",
     "start_time": "2024-11-20T18:49:18.421649Z"
    }
   },
   "source": [
    "haplotypes = group_walks_by_name(walks, walk_sample_names)\n",
    "# haplotypes.keys()"
   ],
   "outputs": [],
   "execution_count": 9
  },
  {
   "metadata": {
    "ExecuteTime": {
     "end_time": "2024-11-20T18:49:38.975384Z",
     "start_time": "2024-11-20T18:49:18.950150Z"
    }
   },
   "cell_type": "code",
   "source": [
    "%%time\n",
    "for sample_name in np.unique(walk_sample_names):\n",
    "    haplo = haplotypes[sample_name]\n",
    "    missing, missing2 = G.get_missing_variants(haplo)\n",
    "    assert len(missing) == len(missing2)\n",
    "    if missing:\n",
    "        assert missing[0] in missing2\n",
    "        assert missing2[0] in missing"
   ],
   "id": "a4ec7d50b30b9688",
   "outputs": [
    {
     "name": "stdout",
     "output_type": "stream",
     "text": [
      "CPU times: user 19.9 s, sys: 217 ms, total: 20.1 s\n",
      "Wall time: 20 s\n"
     ]
    }
   ],
   "execution_count": 10
  },
  {
   "metadata": {
    "ExecuteTime": {
     "end_time": "2024-11-20T18:50:15.636447Z",
     "start_time": "2024-11-20T18:50:15.600250Z"
    }
   },
   "cell_type": "code",
   "source": [
    "for x in missing:\n",
    "    assert x in missing2"
   ],
   "id": "c1502602a7b3db5",
   "outputs": [],
   "execution_count": 12
  },
  {
   "metadata": {
    "ExecuteTime": {
     "end_time": "2024-11-20T18:29:13.468869Z",
     "start_time": "2024-11-20T18:29:13.463269Z"
    }
   },
   "cell_type": "code",
   "source": [
    "result = []\n",
    "for sample_name in np.unique(walk_sample_names):\n",
    "    haplo = haplotypes[sample_name]\n",
    "    missing = G.get_missing_variants(haplo)\n",
    "    for geno in [G.genotype(x) for x in haplo]:\n",
    "        for key in list(geno.keys()):\n",
    "            if key in missing: \n",
    "                result.append(key)\n",
    "assert not result"
   ],
   "id": "b84231f30a7a4d30",
   "outputs": [],
   "execution_count": 5
  },
  {
   "metadata": {
    "ExecuteTime": {
     "end_time": "2024-11-20T18:35:09.844364Z",
     "start_time": "2024-11-20T18:35:09.718545Z"
    }
   },
   "cell_type": "code",
   "source": [
    "%%time\n",
    "result = G.sorted_variant_edge()"
   ],
   "id": "61d1add1c77ca9e7",
   "outputs": [
    {
     "name": "stdout",
     "output_type": "stream",
     "text": [
      "CPU times: user 115 ms, sys: 9.44 ms, total: 125 ms\n",
      "Wall time: 124 ms\n"
     ]
    }
   ],
   "execution_count": 12
  },
  {
   "metadata": {
    "ExecuteTime": {
     "end_time": "2024-11-18T18:39:20.343150Z",
     "start_time": "2024-11-18T18:39:20.340525Z"
    }
   },
   "cell_type": "code",
   "source": "G.position('40967991_+'), G.right_position('40967992_+')",
   "id": "f88a6f3002cc12f7",
   "outputs": [
    {
     "data": {
      "text/plain": [
       "(6038834, 6038952)"
      ]
     },
     "execution_count": 10,
     "metadata": {},
     "output_type": "execute_result"
    }
   ],
   "execution_count": 10
  },
  {
   "metadata": {
    "ExecuteTime": {
     "end_time": "2024-11-18T19:06:56.050354Z",
     "start_time": "2024-11-18T19:06:56.044865Z"
    }
   },
   "cell_type": "code",
   "source": [
    "from graph_var.utils import walk_complement\n",
    "def get_missing_variants(self, walks: list, variant):\n",
    "\n",
    "    # walks must be in the positive direction\n",
    "    for i, walk in enumerate(walks):\n",
    "        if self.nodes[walk[0]]['direction'] == -1:\n",
    "            walk = walk_complement(walk)\n",
    "            walks[i] = walk\n",
    "        assert self.nodes[walk[-1]]['direction'] == 1, \"encountered a walk with an odd number of inversion\"\n",
    "        assert self.position(walk[0]) <= self.right_position(walk[-1])\n",
    "    \n",
    "    for walk in walks:\n",
    "        print(walk[0], walk[-1])\n",
    "\n",
    "    # order walks by position\n",
    "    source_positions = np.sort([self.nodes[walk[-1]]['right_position'] for walk in walks] + [self.position('+_terminus_+')])\n",
    "    sink_positions = np.sort([self.nodes[walk[0]]['position'] for walk in walks] + [self.position('-_terminus_+')])\n",
    "    print(source_positions, sink_positions)\n",
    "    u, v = variant\n",
    "    left_u = self.position(u)\n",
    "    right_v = self.right_position(v)\n",
    "    print(left_u, right_v)\n",
    "\n",
    "    # such that source_positions[index-1] <= left_u\n",
    "    index = np.searchsorted(source_positions, left_u, side='right')\n",
    "    print(index)\n",
    "    \n",
    "    return right_v <= sink_positions[index-1]\n"
   ],
   "id": "616678c64a4f63ef",
   "outputs": [],
   "execution_count": 30
  },
  {
   "metadata": {
    "ExecuteTime": {
     "end_time": "2024-11-18T19:06:56.919195Z",
     "start_time": "2024-11-18T19:06:56.900385Z"
    }
   },
   "cell_type": "code",
   "source": "get_missing_variants(G, haplo, ('40967991_+', '40967992_+'))",
   "id": "9311ed6a5db63ec8",
   "outputs": [
    {
     "name": "stdout",
     "output_type": "stream",
     "text": [
      "40781781_+ 40967993_+\n",
      "[      0 6038953] [  60290 6038953]\n",
      "6038834 6038952\n",
      "1\n"
     ]
    },
    {
     "data": {
      "text/plain": [
       "False"
      ]
     },
     "execution_count": 31,
     "metadata": {},
     "output_type": "execute_result"
    }
   ],
   "execution_count": 31
  },
  {
   "metadata": {
    "ExecuteTime": {
     "end_time": "2024-11-18T19:04:44.225624Z",
     "start_time": "2024-11-18T19:04:44.223365Z"
    }
   },
   "cell_type": "code",
   "source": "G.position('40781781_+')",
   "id": "cabb9371348b4b1d",
   "outputs": [
    {
     "data": {
      "text/plain": [
       "60290"
      ]
     },
     "execution_count": 27,
     "metadata": {},
     "output_type": "execute_result"
    }
   ],
   "execution_count": 27
  },
  {
   "metadata": {},
   "cell_type": "code",
   "outputs": [],
   "execution_count": null,
   "source": "",
   "id": "2c9f42932d6eff40"
  },
  {
   "metadata": {
    "ExecuteTime": {
     "end_time": "2024-11-18T18:40:33.933651Z",
     "start_time": "2024-11-18T18:40:33.931134Z"
    }
   },
   "cell_type": "code",
   "source": "G.right_position(haplo[0][0]), G.position(haplo[0][-1])",
   "id": "e44ccacf6cff1427",
   "outputs": [
    {
     "data": {
      "text/plain": [
       "(6038953, 60290)"
      ]
     },
     "execution_count": 12,
     "metadata": {},
     "output_type": "execute_result"
    }
   ],
   "execution_count": 12
  },
  {
   "metadata": {
    "ExecuteTime": {
     "end_time": "2024-11-18T18:37:38.164403Z",
     "start_time": "2024-11-18T18:37:38.161775Z"
    }
   },
   "cell_type": "code",
   "source": "G.nodes[haplo[0][0]]['direction']",
   "id": "fe0ed65b556911a2",
   "outputs": [
    {
     "data": {
      "text/plain": [
       "-1"
      ]
     },
     "execution_count": 9,
     "metadata": {},
     "output_type": "execute_result"
    }
   ],
   "execution_count": 9
  },
  {
   "metadata": {
    "ExecuteTime": {
     "end_time": "2024-11-18T17:42:31.547262Z",
     "start_time": "2024-11-18T17:42:31.542956Z"
    }
   },
   "cell_type": "code",
   "source": [
    "c = nx.find_cycle(positive_subgraph)\n",
    "G.edges[c[0]], c"
   ],
   "id": "dc7706ddb2a0aba6",
   "outputs": [
    {
     "data": {
      "text/plain": [
       "({'index': 4.0,\n",
       "  'weight': 10,\n",
       "  'is_in_tree': False,\n",
       "  'branch_point': 'STK19_+',\n",
       "  'is_representative': True},\n",
       " [('C4A_+', 'C4A_+')])"
      ]
     },
     "execution_count": 4,
     "metadata": {},
     "output_type": "execute_result"
    }
   ],
   "execution_count": 4
  },
  {
   "cell_type": "code",
   "id": "76e359ae",
   "metadata": {
    "ExecuteTime": {
     "end_time": "2024-11-18T17:29:59.812834Z",
     "start_time": "2024-11-18T17:29:59.798516Z"
    }
   },
   "source": [
    "from graph_var.utils import group_walks_by_name\n",
    "walks_by_name = group_walks_by_name(walks, walk_sample_names)"
   ],
   "outputs": [
    {
     "ename": "NameError",
     "evalue": "name 'defaultdict' is not defined",
     "output_type": "error",
     "traceback": [
      "\u001B[0;31m---------------------------------------------------------------------------\u001B[0m",
      "\u001B[0;31mNameError\u001B[0m                                 Traceback (most recent call last)",
      "Cell \u001B[0;32mIn[11], line 2\u001B[0m\n\u001B[1;32m      1\u001B[0m \u001B[38;5;28;01mfrom\u001B[39;00m \u001B[38;5;21;01mgraph_var\u001B[39;00m\u001B[38;5;21;01m.\u001B[39;00m\u001B[38;5;21;01mutils\u001B[39;00m \u001B[38;5;28;01mimport\u001B[39;00m group_walks_by_name\n\u001B[0;32m----> 2\u001B[0m walks_by_name \u001B[38;5;241m=\u001B[39m group_walks_by_name(walks, walk_sample_names)\n",
      "File \u001B[0;32m~/Dropbox/GitHub/graph_var/graph_var/utils.py:142\u001B[0m, in \u001B[0;36mgroup_walks_by_name\u001B[0;34m(walks, names)\u001B[0m\n\u001B[1;32m    131\u001B[0m \u001B[38;5;250m\u001B[39m\u001B[38;5;124;03m\"\"\"\u001B[39;00m\n\u001B[1;32m    132\u001B[0m \u001B[38;5;124;03mGroup walks by their names into sublists.\u001B[39;00m\n\u001B[1;32m    133\u001B[0m \u001B[38;5;124;03m\u001B[39;00m\n\u001B[0;32m   (...)\u001B[0m\n\u001B[1;32m    139\u001B[0m \u001B[38;5;124;03m    List of lists, where each sublist contains all walks with the same name\u001B[39;00m\n\u001B[1;32m    140\u001B[0m \u001B[38;5;124;03m\"\"\"\u001B[39;00m\n\u001B[1;32m    141\u001B[0m \u001B[38;5;66;03m# Create a dictionary to store walks by name\u001B[39;00m\n\u001B[0;32m--> 142\u001B[0m walks_by_name \u001B[38;5;241m=\u001B[39m defaultdict(\u001B[38;5;28mlist\u001B[39m)\n\u001B[1;32m    144\u001B[0m \u001B[38;5;66;03m# Group walks by their names\u001B[39;00m\n\u001B[1;32m    145\u001B[0m \u001B[38;5;28;01mfor\u001B[39;00m walk, name \u001B[38;5;129;01min\u001B[39;00m \u001B[38;5;28mzip\u001B[39m(walks, names):\n",
      "\u001B[0;31mNameError\u001B[0m: name 'defaultdict' is not defined"
     ]
    }
   ],
   "execution_count": 11
  },
  {
   "cell_type": "code",
   "execution_count": 8,
   "id": "64899819",
   "metadata": {},
   "outputs": [],
   "source": [
    "self = G"
   ]
  },
  {
   "cell_type": "code",
   "execution_count": 10,
   "id": "bdaaef15",
   "metadata": {},
   "outputs": [
    {
     "data": {
      "text/plain": [
       "[(60290, 6038953),\n",
       " (50126, 6038953),\n",
       " (819242, 6038953),\n",
       " (60290, 817033),\n",
       " (822406, 6038953),\n",
       " (60290, 817772),\n",
       " (60290, 6038953),\n",
       " (60290, 6038953),\n",
       " (6038953, 60290),\n",
       " (6038953, 819240),\n",
       " (817523, 60290),\n",
       " (6038953, 820113),\n",
       " (818810, 60290),\n",
       " (60290, 6038953),\n",
       " (60290, 6038953),\n",
       " (6038953, 60290),\n",
       " (819825, 3825592),\n",
       " (4104067, 6038953),\n",
       " (818810, 60290),\n",
       " (4100072, 3827157),\n",
       " (4102199, 6038953),\n",
       " (4099933, 60290),\n",
       " (6038953, 2822514),\n",
       " (60290, 818564),\n",
       " (2815941, 823491),\n",
       " (6038953, 60290),\n",
       " (60290, 6038953),\n",
       " (6038953, 60290),\n",
       " (822573, 6038953),\n",
       " (60290, 818810),\n",
       " (389608, 6038953),\n",
       " (403930, 60290),\n",
       " (60290, 6038953),\n",
       " (6038953, 60290),\n",
       " (6038953, 2827999),\n",
       " (818550, 60290),\n",
       " (2827462, 819325),\n",
       " (819240, 6038953),\n",
       " (818810, 60290),\n",
       " (6038953, 60290),\n",
       " (4032678, 6038953),\n",
       " (60290, 4031884),\n",
       " (6038953, 60290),\n",
       " (820246, 6038953),\n",
       " (818810, 60290),\n",
       " (6038953, 820049),\n",
       " (818810, 60290),\n",
       " (820049, 6038953),\n",
       " (818379, 60290),\n",
       " (60290, 6038953),\n",
       " (6038953, 60290),\n",
       " (6038953, 60290),\n",
       " (6038953, 819294),\n",
       " (818802, 60290),\n",
       " (6038953, 819865),\n",
       " (60290, 789173),\n",
       " (6038953, 60290),\n",
       " (60290, 4026663),\n",
       " (6038953, 4027492),\n",
       " (6038953, 60290),\n",
       " (6038953, 817318),\n",
       " (60290, 813185),\n",
       " (60290, 6038953),\n",
       " (6038953, 820283),\n",
       " (818810, 60290),\n",
       " (60290, 6038953),\n",
       " (6038953, 60290),\n",
       " (60290, 6038953),\n",
       " (60290, 6038953),\n",
       " (60290, 6038953),\n",
       " (60290, 6038953),\n",
       " (6038953, 60290),\n",
       " (6038953, 60290),\n",
       " (60290, 6038953),\n",
       " (821157, 6038953),\n",
       " (60290, 821132),\n",
       " (819486, 6038953),\n",
       " (818810, 60290),\n",
       " (60290, 6038953),\n",
       " (60290, 6038953),\n",
       " (6038953, 60290),\n",
       " (819599, 6038953),\n",
       " (60290, 818030),\n",
       " (6038953, 60290),\n",
       " (6038953, 3674977),\n",
       " (2705417, 3674918),\n",
       " (60290, 2705487),\n",
       " (60290, 6038953),\n",
       " (60290, 6038953),\n",
       " (821375, 6038953),\n",
       " (818810, 60290),\n",
       " (6038953, 60290),\n",
       " (6038953, 819240),\n",
       " (818787, 60290),\n",
       " (6038953, 60290),\n",
       " (60290, 6038953),\n",
       " (60290, 6038953),\n",
       " (819240, 6038953),\n",
       " (60290, 818810),\n",
       " (820645, 6038953),\n",
       " (490260, 60290),\n",
       " (240036, 818192),\n",
       " (60290, 6038952),\n",
       " (60290, 6038953),\n",
       " (6038953, 60290),\n",
       " (6038953, 821132),\n",
       " (818810, 60290),\n",
       " (60290, 6038953),\n",
       " (60290, 6038953),\n",
       " (823086, 6038953),\n",
       " (822407, 60290),\n",
       " (6038953, 60290),\n",
       " (4842360, 6038953),\n",
       " (4837893, 60290),\n",
       " (60290, 6038953),\n",
       " (817522, 6038953),\n",
       " (60290, 820399),\n",
       " (60290, 6038953),\n",
       " (819605, 6038953),\n",
       " (818450, 60290),\n",
       " (2837482, 6038953),\n",
       " (2864942, 60290),\n",
       " (6038953, 60290),\n",
       " (6038953, 60290),\n",
       " (6038953, 60290),\n",
       " (60290, 6038953),\n",
       " (6038953, 60290),\n",
       " (6038953, 60290),\n",
       " (60290, 6038953),\n",
       " (819699, 6038953),\n",
       " (818260, 60290)]"
      ]
     },
     "execution_count": 10,
     "metadata": {},
     "output_type": "execute_result"
    }
   ],
   "source": [
    "walk_position_intervals = [(self.nodes[walk[0]]['position'], self.nodes[walk[-1]]['position'])\n",
    "        for walk in walks]\n",
    "walk_position_intervals"
   ]
  },
  {
   "cell_type": "code",
   "id": "1f9ecfc1",
   "metadata": {
    "ExecuteTime": {
     "end_time": "2024-11-18T17:42:39.775241Z",
     "start_time": "2024-11-18T17:42:39.762222Z"
    }
   },
   "source": [
    "G.variant_edges_summary()"
   ],
   "outputs": [
    {
     "name": "stderr",
     "output_type": "stream",
     "text": [
      "100%|██████████| 6/6 [00:00<00:00, 44699.51it/s]\n"
     ]
    },
    {
     "data": {
      "text/plain": [
       "{'inversion': 0,\n",
       " 'crossing_edges': 0,\n",
       " 'back_edges': 4,\n",
       " 'forward_edges': 2,\n",
       " 'total': 6}"
      ]
     },
     "execution_count": 5,
     "metadata": {},
     "output_type": "execute_result"
    }
   ],
   "execution_count": 5
  },
  {
   "cell_type": "code",
   "execution_count": null,
   "id": "439c5089",
   "metadata": {},
   "outputs": [],
   "source": []
  },
  {
   "cell_type": "code",
   "execution_count": 11,
   "id": "89338b26ff812c38",
   "metadata": {},
   "outputs": [
    {
     "name": "stderr",
     "output_type": "stream",
     "text": [
      "100%|██████████| 8/8 [00:00<00:00, 29615.56it/s]\n"
     ]
    },
    {
     "data": {
      "text/plain": [
       "{'inversion': 2,\n",
       " 'crossing_edges': 4,\n",
       " 'back_edges': 0,\n",
       " 'forward_edges': 2,\n",
       " 'total': 8}"
      ]
     },
     "execution_count": 11,
     "metadata": {},
     "output_type": "execute_result"
    }
   ],
   "source": [
    "G.variant_edges_summary()"
   ]
  },
  {
   "cell_type": "code",
   "execution_count": null,
   "id": "2db8f67c8007e19d",
   "metadata": {
    "ExecuteTime": {
     "end_time": "2024-11-04T17:34:23.588432Z",
     "start_time": "2024-11-04T17:34:23.577237Z"
    }
   },
   "outputs": [],
   "source": [
    "node = walks[5][100]\n",
    "G.nodes[node]['distance_from_reference']"
   ]
  },
  {
   "cell_type": "code",
   "execution_count": null,
   "id": "992b836ce5faf28f",
   "metadata": {},
   "outputs": [],
   "source": [
    "visits = [G.count_edge_visits(genotype) for genotype in genotypes]"
   ]
  },
  {
   "cell_type": "code",
   "execution_count": null,
   "id": "e92ef4f18734c64b",
   "metadata": {},
   "outputs": [],
   "source": [
    "allele_counts = G.allele_count()"
   ]
  },
  {
   "cell_type": "code",
   "execution_count": null,
   "id": "f53fd56abc240dc0",
   "metadata": {},
   "outputs": [],
   "source": [
    "allele_counts"
   ]
  },
  {
   "cell_type": "code",
   "execution_count": null,
   "id": "ac298ca8c6488588",
   "metadata": {},
   "outputs": [],
   "source": [
    "vcf_filename = \"chr20_subgraph.vcf\"\n",
    "tree_filename = \"chr20_subgraph.tree\"\n",
    "chr_name = \"chr20\"\n",
    "G.write_vcf(walks, walk_sample_names, vcf_filename, tree_filename, chr_name)"
   ]
  },
  {
   "cell_type": "code",
   "execution_count": null,
   "id": "7363cdeb73d9af",
   "metadata": {
    "collapsed": false
   },
   "outputs": [],
   "source": [
    "cpts = nx.weakly_connected_components(G)\n",
    "sub = nx.subgraph(G, next(cpts))\n",
    "pos = nx.spring_layout(sub, k=10)\n",
    "nx.draw(sub, pos, with_labels=True)"
   ]
  },
  {
   "cell_type": "code",
   "execution_count": null,
   "id": "beb89adff411cab5",
   "metadata": {},
   "outputs": [],
   "source": [
    "pos = nx.spring_layout(G.reference_tree, k=10)\n",
    "nx.draw(G.reference_tree, pos, with_labels=True)"
   ]
  },
  {
   "cell_type": "code",
   "execution_count": null,
   "id": "9d7b16a5d30841fd",
   "metadata": {},
   "outputs": [],
   "source": [
    "for u in G.nodes:\n",
    "    G.nodes[u]['sequence'] = u\n",
    "\n",
    "\n",
    "for e in G.variant_edges:\n",
    "    if G.is_inversion(e):\n",
    "        continue\n",
    "    ref, alt, _, branch = G.ref_alt_alleles(e)\n",
    "    print(f\"edge: {e}, ref: {ref}, alt: {alt}, branch: {branch}\")\n",
    "    ref, alt, _, branch = G.ref_alt_alleles(_edge_complement(e))\n",
    "    print(f\"edge: {_edge_complement(e)}, ref: {ref}, alt: {alt}, branch: {branch}\")"
   ]
  },
  {
   "cell_type": "code",
   "execution_count": null,
   "id": "b04cc86e58895eea",
   "metadata": {},
   "outputs": [],
   "source": [
    "invs = [e for e in G.variant_edges if G.is_inversion(e)]\n",
    "for e in invs:\n",
    "    ref, alt, _, branch = G.ref_alt_alleles(e)\n",
    "    print(f\"edge: {e}, ref: {ref}, alt: {alt}, branch: {branch}\")\n",
    "    ref, alt, _, branch = G.ref_alt_alleles(_edge_complement(e))\n",
    "    print(f\"edge: {_edge_complement(e)}, ref: {ref}, alt: {alt}, branch: {branch}\")"
   ]
  },
  {
   "cell_type": "code",
   "execution_count": null,
   "id": "2feaaf39ff26a14a",
   "metadata": {},
   "outputs": [],
   "source": [
    "ref, alt, _, branch = G.ref_alt_alleles(invs[0])\n",
    "ref,alt,branch"
   ]
  },
  {
   "cell_type": "code",
   "execution_count": null,
   "id": "c4854164f4265124",
   "metadata": {},
   "outputs": [],
   "source": [
    "[len(w) for w in walks]\n",
    "walks[6]"
   ]
  },
  {
   "cell_type": "code",
   "execution_count": null,
   "id": "ee07d70a14f3ef03",
   "metadata": {},
   "outputs": [],
   "source": [
    "G.walk_with_variants('STK19_+','C4B_-',[])"
   ]
  },
  {
   "cell_type": "code",
   "execution_count": null,
   "id": "4077e5530ff8134f",
   "metadata": {},
   "outputs": [],
   "source": [
    "first, last, variant_edges = 'C4A_-','STK19_+',[('C4A_-', 'CYP21A2_+')]\n",
    "walk_direction = G.direction(first)\n",
    "source_nodes = [first] + [v for _, v in variant_edges]\n",
    "sink_nodes = [u for u, _ in variant_edges] + [last]\n",
    "source_nodes, sink_nodes"
   ]
  },
  {
   "cell_type": "code",
   "execution_count": null,
   "id": "3fa6145df16b9229",
   "metadata": {},
   "outputs": [],
   "source": [
    "walk_direction, G.direction(source_nodes[1])"
   ]
  },
  {
   "cell_type": "code",
   "execution_count": null,
   "id": "791c5f7d1001227d",
   "metadata": {},
   "outputs": [],
   "source": [
    "segment, _ = G.walk_up_tree('STK19_+','CYP21A2_+')\n",
    "segment[1:]"
   ]
  },
  {
   "cell_type": "code",
   "execution_count": null,
   "id": "b0b4812844e112d",
   "metadata": {},
   "outputs": [],
   "source": [
    "segment[::-1]"
   ]
  },
  {
   "cell_type": "code",
   "execution_count": null,
   "id": "65a758ce40e02323",
   "metadata": {},
   "outputs": [],
   "source": []
  },
  {
   "cell_type": "code",
   "execution_count": null,
   "id": "12ab446ec3715a95",
   "metadata": {},
   "outputs": [],
   "source": [
    "G.walk_with_variants('C4A_-','STK19_+',[invs[1]])\n"
   ]
  },
  {
   "cell_type": "code",
   "execution_count": null,
   "id": "b2049fe733f251da",
   "metadata": {},
   "outputs": [],
   "source": []
  },
  {
   "cell_type": "code",
   "execution_count": null,
   "id": "a04156595d4a5acc",
   "metadata": {},
   "outputs": [],
   "source": [
    "ref, alt, _, branch = G.ref_alt_alleles(_edge_complement(invs[1]))\n",
    "ref,alt,branch"
   ]
  },
  {
   "cell_type": "code",
   "execution_count": null,
   "id": "4434c6ea782af98",
   "metadata": {},
   "outputs": [],
   "source": [
    "invs[1]"
   ]
  },
  {
   "cell_type": "code",
   "execution_count": null,
   "id": "629af99b5e2b7897",
   "metadata": {},
   "outputs": [],
   "source": [
    "# G.ref_alt_alleles(_edge_complement(e))\n",
    "u,v = _edge_complement(e)\n",
    "branch_point = G.edges[u, v]['branch_point']\n",
    "first, last = (branch_point, v) if G.nodes[u]['direction'] == 1 else (v, branch_point)\n",
    "first,last\n",
    "# G.nodes[e[0]], G.nodes[e[1]], _edge_complement(e), G.edges[_edge_complement(e)]['branch_point']"
   ]
  },
  {
   "cell_type": "code",
   "execution_count": null,
   "id": "a613ace1206aeb60",
   "metadata": {},
   "outputs": [],
   "source": [
    "u,v"
   ]
  },
  {
   "cell_type": "code",
   "execution_count": null,
   "id": "d9508d531e487ac3",
   "metadata": {},
   "outputs": [],
   "source": [
    "_edge_complement(e)"
   ]
  },
  {
   "cell_type": "code",
   "execution_count": null,
   "id": "73cb2c18be4e4cb9",
   "metadata": {},
   "outputs": [],
   "source": [
    "G.walk_with_variants('CYP21A2_-', 'C4A_+', [_edge_complement(e)])"
   ]
  },
  {
   "cell_type": "code",
   "execution_count": null,
   "id": "956d5754cbdea3a",
   "metadata": {},
   "outputs": [],
   "source": [
    "e = ('C4B_+', 'C4A_+')\n",
    "u, v = e\n",
    "branch_point = G.edges[u, v]['branch_point']\n",
    "ref, alt, _, branch = G.ref_alt_alleles(e)\n",
    "print(f\"edge: {e}, ref: {ref}, alt: {alt}, branch: {branch}\")"
   ]
  },
  {
   "cell_type": "code",
   "execution_count": null,
   "id": "c22a092bfc21a632",
   "metadata": {},
   "outputs": [],
   "source": [
    "alt_path = G.walk_with_variants(branch_point, v, [e])\n",
    "alt_path"
   ]
  },
  {
   "cell_type": "code",
   "execution_count": null,
   "id": "e9f2e87142308730",
   "metadata": {},
   "outputs": [],
   "source": [
    "l = [1]\n",
    "l += [2]\n",
    "l[1:-1]"
   ]
  },
  {
   "cell_type": "code",
   "execution_count": null,
   "id": "486a1666fe8a39ea",
   "metadata": {},
   "outputs": [],
   "source": [
    "sink_nodes = [u] + [v]\n",
    "source_nodes = [branch_point] + [v]\n",
    "source_nodes, sink_nodes"
   ]
  },
  {
   "cell_type": "code",
   "execution_count": null,
   "id": "45772d8efe5372c8",
   "metadata": {},
   "outputs": [],
   "source": [
    "G.nodes['C4A_+']['direction']"
   ]
  },
  {
   "cell_type": "code",
   "execution_count": null,
   "id": "70fc1c6d75b70f59",
   "metadata": {},
   "outputs": [],
   "source": [
    "segment, _ = G.walk_up_tree('C4A_+', 'C4B_+')\n",
    "segment[::-1]"
   ]
  },
  {
   "cell_type": "code",
   "execution_count": null,
   "id": "be3ced82b91987ac",
   "metadata": {},
   "outputs": [],
   "source": [
    "ref_path = G.walk_with_variants('C4A_+', 'C4A_+', [])\n",
    "G.walk_sequence(ref_path)"
   ]
  },
  {
   "cell_type": "code",
   "execution_count": null,
   "id": "180464b82d2f621e",
   "metadata": {},
   "outputs": [],
   "source": [
    "G.ref_alt_alleles(('C4A_+', 'C4A_+'))"
   ]
  },
  {
   "cell_type": "code",
   "execution_count": null,
   "id": "8b1cbab0fa8302bd",
   "metadata": {},
   "outputs": [],
   "source": [
    "G.nodes['C4A_+']"
   ]
  },
  {
   "cell_type": "code",
   "execution_count": null,
   "id": "45d9c6de05dbae05",
   "metadata": {},
   "outputs": [],
   "source": []
  },
  {
   "cell_type": "code",
   "execution_count": null,
   "id": "d82e8756006feff0",
   "metadata": {},
   "outputs": [],
   "source": [
    "for e in G.variant_edges:\n",
    "    ref, alt, _, _ = G.ref_alt_alleles(_edge_complement(e))\n",
    "    print(f\"ref: {ref}, alt: {alt}\")"
   ]
  },
  {
   "cell_type": "code",
   "execution_count": null,
   "id": "34b88a4f6e293544",
   "metadata": {},
   "outputs": [],
   "source": []
  },
  {
   "cell_type": "code",
   "execution_count": null,
   "id": "115c7a0e4fe88460",
   "metadata": {},
   "outputs": [],
   "source": []
  },
  {
   "cell_type": "code",
   "execution_count": null,
   "id": "9ad1dc47eb46c8c",
   "metadata": {},
   "outputs": [],
   "source": []
  },
  {
   "cell_type": "code",
   "execution_count": null,
   "id": "135257e3834931b1",
   "metadata": {},
   "outputs": [],
   "source": []
  },
  {
   "cell_type": "code",
   "execution_count": null,
   "id": "b587d5a23f48082b",
   "metadata": {},
   "outputs": [],
   "source": [
    "first = 'C4A_-'\n",
    "last = 'DXO_-'\n",
    "edge = (first, last)\n",
    "ref = G.walk_with_variants(*edge, [])\n",
    "alt = G.walk_with_variants(*edge, [edge])\n",
    "ref, alt"
   ]
  },
  {
   "cell_type": "code",
   "execution_count": null,
   "id": "7d8be396628a8dc1",
   "metadata": {},
   "outputs": [],
   "source": [
    "first = 'SKIC2_+'\n",
    "last = 'STK19_-'\n",
    "edge = (first, last)\n",
    "ref = G.walk_with_variants(first, last, [])\n",
    "alt = G.walk_with_variants(first, last, [edge])\n",
    "ref, alt"
   ]
  },
  {
   "cell_type": "code",
   "execution_count": null,
   "id": "fd2a70de70e9c072",
   "metadata": {},
   "outputs": [],
   "source": [
    "first = 'C4A_-'\n",
    "last = 'DXO_-'\n",
    "edge = (first, last)\n",
    "# edge = _edge_complement(edge)\n",
    "ref = G.walk_with_variants(*edge, [])\n",
    "alt = G.walk_with_variants(*edge, [edge])\n",
    "ref, alt"
   ]
  },
  {
   "cell_type": "code",
   "execution_count": null,
   "id": "83dc982a8062331d",
   "metadata": {},
   "outputs": [],
   "source": [
    "G.nodes[first]['direction'], G.nodes[last]['direction']"
   ]
  },
  {
   "cell_type": "code",
   "execution_count": null,
   "id": "edf0d62d53c868a7",
   "metadata": {},
   "outputs": [],
   "source": [
    "G.edges[first, last]['branch_point']"
   ]
  },
  {
   "cell_type": "code",
   "execution_count": null,
   "id": "819147ea2ba2749c",
   "metadata": {},
   "outputs": [],
   "source": [
    "first = 'C4A_+'\n",
    "last = 'CYP21A2_+'\n",
    "edge = _edge_complement((first, last))\n",
    "ref = G.walk_with_variants(*edge, [])\n",
    "alt = G.walk_with_variants(*edge, [edge])\n",
    "ref, alt"
   ]
  },
  {
   "cell_type": "code",
   "execution_count": null,
   "id": "95b39dac088cd3e7",
   "metadata": {},
   "outputs": [],
   "source": [
    "first = 'C4A_+'\n",
    "last = 'CYP21A2_+'\n",
    "edge = (first, last)\n",
    "ref = G.walk_with_variants(*edge, [])\n",
    "alt = G.walk_with_variants(*edge, [edge])\n",
    "ref, alt"
   ]
  },
  {
   "cell_type": "code",
   "execution_count": null,
   "id": "5d40e9699a0200a4",
   "metadata": {},
   "outputs": [],
   "source": []
  },
  {
   "cell_type": "code",
   "execution_count": null,
   "id": "850f140d4bc2e9ea",
   "metadata": {},
   "outputs": [],
   "source": [
    "G.walk_up_tree(last, last)"
   ]
  },
  {
   "cell_type": "code",
   "execution_count": null,
   "id": "39de67433b7bebf7",
   "metadata": {},
   "outputs": [],
   "source": [
    "walks[0]"
   ]
  },
  {
   "cell_type": "code",
   "execution_count": null,
   "id": "8334e8f7d0a1426d",
   "metadata": {
    "collapsed": false
   },
   "outputs": [],
   "source": [
    "classification = []\n",
    "\n",
    "endpoints = \"STK19\", \"CYP21A2\"\n",
    "variants = [(\"STK19_+\", \"C4B_+\"), (\"C4A_+\", \"CYP21A2_+\")]\n",
    "classification.append(G.classify_triallelic_bubble(endpoints, variants))\n",
    "\n",
    "endpoints = \"C4A\", \"CYP21A2\"\n",
    "variants = [(\"C4B_+\", \"C4B_+\"), (\"C4A_+\", \"CYP21A2_+\")]\n",
    "classification.append(G.classify_triallelic_bubble(endpoints, variants))\n",
    "\n",
    "endpoints = \"C4A\", \"CYP21A2\"\n",
    "variants = [(\"CYP21A2_+\", \"C4B_+\"), (\"C4A_+\", \"CYP21A2_+\")]\n",
    "classification.append(G.classify_triallelic_bubble(endpoints, variants))\n",
    "\n",
    "classification"
   ]
  },
  {
   "cell_type": "code",
   "execution_count": null,
   "id": "269fbca5e5b41f23",
   "metadata": {
    "collapsed": false
   },
   "outputs": [],
   "source": [
    "inversions = [e for e in G.variant_edges if G.is_inversion(e)]\n",
    "inversions"
   ]
  },
  {
   "cell_type": "code",
   "execution_count": null,
   "id": "5761102ae9473a30",
   "metadata": {},
   "outputs": [],
   "source": [
    "from utils import _node_complement, _edge_complement\n",
    "u,v = inversions[0]\n",
    "G.edges[u,_node_complement(v)]['branch_point']"
   ]
  },
  {
   "cell_type": "code",
   "execution_count": null,
   "id": "ab19e29a951f84b",
   "metadata": {},
   "outputs": [],
   "source": [
    "u,v"
   ]
  },
  {
   "cell_type": "code",
   "execution_count": null,
   "id": "83bad4ded556dd17",
   "metadata": {},
   "outputs": [],
   "source": [
    "def annotate_branch_points(self) -> None:\n",
    "    \"\"\"\n",
    "    Computes the branch point, i.e. the lowest common ancestor in the reference tree, of each variant edge.\n",
    "    \"\"\"\n",
    "\n",
    "    def positive_node(node):\n",
    "        return node if self.nodes[node]['direction'] == 1 else _node_complement(node)\n",
    "\n",
    "    positive_direction_variants = [(positive_node(u), positive_node(v)) for u,v in self.variant_edges]\n",
    "\n",
    "    # For each variant edge (u,v), yield the lowest common ancestor of u and v in the tree\n",
    "    branch_point_tuples = nx.tree_all_pairs_lowest_common_ancestor(\n",
    "        self.reference_tree,\n",
    "        root=self.termini[0]+'_+',\n",
    "        pairs=positive_direction_variants\n",
    "    )\n",
    "    branch_points = dict(branch_point_tuples)\n",
    "\n",
    "    for edge in self.variant_edges:\n",
    "        branch_point = branch_points[positive_node(edge[0]), positive_node(edge[1])]\n",
    "        self.edges[edge]['branch_point'] = branch_point\n",
    "        self.edges[_edge_complement(edge)]['branch_point'] = branch_point"
   ]
  },
  {
   "cell_type": "code",
   "execution_count": null,
   "id": "6e09e6e7cff4762d",
   "metadata": {},
   "outputs": [],
   "source": [
    "annotate_branch_points(G)"
   ]
  },
  {
   "cell_type": "code",
   "execution_count": null,
   "id": "ec19639d782a5dde",
   "metadata": {},
   "outputs": [],
   "source": [
    "u,v = inversions[0]\n",
    "G.edges[u,v]['branch_point'], u, v"
   ]
  },
  {
   "cell_type": "code",
   "execution_count": null,
   "id": "f44a2024e8d34508",
   "metadata": {},
   "outputs": [],
   "source": [
    "u,v = inversions[1]\n",
    "G.edges[u,v]['branch_point'], u, v"
   ]
  },
  {
   "cell_type": "code",
   "execution_count": null,
   "id": "feee5d14a781b14e",
   "metadata": {},
   "outputs": [],
   "source": [
    "inversions"
   ]
  },
  {
   "cell_type": "code",
   "execution_count": null,
   "id": "8ceef671aaf30a30",
   "metadata": {},
   "outputs": [],
   "source": [
    "G.nodes['42737147_+']['direction']"
   ]
  },
  {
   "cell_type": "code",
   "execution_count": null,
   "id": "85080c1b27dece68",
   "metadata": {},
   "outputs": [],
   "source": []
  },
  {
   "cell_type": "code",
   "execution_count": null,
   "id": "2c82e2b27466dc46",
   "metadata": {},
   "outputs": [],
   "source": []
  },
  {
   "cell_type": "code",
   "execution_count": null,
   "id": "3bc8b2482ae57b6c",
   "metadata": {
    "collapsed": false
   },
   "outputs": [],
   "source": [
    "G.has_edge(\"CYP21A2_+\", \"C4B_+\")"
   ]
  },
  {
   "cell_type": "code",
   "execution_count": null,
   "id": "c6d3ea51fec6ab57",
   "metadata": {
    "collapsed": false
   },
   "outputs": [],
   "source": [
    "G.reference_tree.edges"
   ]
  },
  {
   "cell_type": "code",
   "execution_count": null,
   "id": "a1a50118316f0fea",
   "metadata": {},
   "outputs": [],
   "source": [
    "('42693511_-','42693513_+') in G.variant_edges"
   ]
  },
  {
   "cell_type": "code",
   "execution_count": null,
   "id": "1a9c062301c1f497",
   "metadata": {},
   "outputs": [],
   "source": [
    "G.is_snp(('42693511_-','42693513_+'))"
   ]
  },
  {
   "cell_type": "code",
   "execution_count": null,
   "id": "bc5ec766243fddf1",
   "metadata": {},
   "outputs": [],
   "source": [
    "inversions = [edge for edge in G.variant_edges if G.is_inversion(edge)]"
   ]
  },
  {
   "cell_type": "code",
   "execution_count": null,
   "id": "3ba9ebb6f4ef1c97",
   "metadata": {},
   "outputs": [],
   "source": [
    "inversions"
   ]
  },
  {
   "cell_type": "code",
   "execution_count": null,
   "id": "a7e63a27bb25c46d",
   "metadata": {},
   "outputs": [],
   "source": [
    "walks"
   ]
  },
  {
   "cell_type": "code",
   "execution_count": null,
   "id": "98d2954aa4fb1e71",
   "metadata": {},
   "outputs": [],
   "source": [
    "genos = [G.genotype(walk) for walk in walks[:10]]"
   ]
  },
  {
   "cell_type": "code",
   "execution_count": null,
   "id": "627506e74ded682a",
   "metadata": {},
   "outputs": [],
   "source": [
    "for geno in genos:\n",
    "    x = []\n",
    "    for e in inversions:\n",
    "        if e not in geno:\n",
    "            x.append(0)\n",
    "            continue\n",
    "        x.append(geno[e])\n",
    "    print(x)"
   ]
  },
  {
   "cell_type": "code",
   "execution_count": null,
   "id": "dab473403c8ced8e",
   "metadata": {},
   "outputs": [],
   "source": [
    "len(genos)"
   ]
  },
  {
   "cell_type": "code",
   "execution_count": null,
   "id": "2d2a628ee9fb4423",
   "metadata": {},
   "outputs": [],
   "source": [
    "list(G.neighbors('42693514_+'))"
   ]
  },
  {
   "cell_type": "code",
   "execution_count": null,
   "id": "4628b033887bce82",
   "metadata": {},
   "outputs": [],
   "source": [
    "[G.nodes[node] for node in G.neighbors('42693514_+')]"
   ]
  },
  {
   "cell_type": "code",
   "execution_count": null,
   "id": "820b0b152a379712",
   "metadata": {},
   "outputs": [],
   "source": [
    "G.nodes['42693514_+']"
   ]
  },
  {
   "cell_type": "code",
   "execution_count": null,
   "id": "bde620fe520a180c",
   "metadata": {},
   "outputs": [],
   "source": [
    "e = inversions[0]\n",
    "G.ref_alt_alleles(e)"
   ]
  },
  {
   "cell_type": "code",
   "execution_count": null,
   "id": "5eac46030d0282c9",
   "metadata": {},
   "outputs": [],
   "source": []
  },
  {
   "cell_type": "code",
   "execution_count": null,
   "id": "157bc51a97cf709b",
   "metadata": {},
   "outputs": [],
   "source": [
    "list(G.neighbors('42693513_-'))"
   ]
  },
  {
   "cell_type": "code",
   "execution_count": null,
   "id": "a22da584609e06b7",
   "metadata": {},
   "outputs": [],
   "source": [
    "list(G.predecessors('42693513_+'))"
   ]
  },
  {
   "cell_type": "code",
   "execution_count": null,
   "id": "db766a822ab44352",
   "metadata": {},
   "outputs": [],
   "source": [
    "path = nx.shortest_path(G, '-_terminus_-','42693513_+')"
   ]
  },
  {
   "cell_type": "code",
   "execution_count": null,
   "id": "e7369be0a1ab7d0d",
   "metadata": {},
   "outputs": [],
   "source": [
    "sum([G.nodes[node]['on_reference_path'] for node in path])"
   ]
  },
  {
   "cell_type": "code",
   "execution_count": null,
   "id": "14ea61ac08ba766d",
   "metadata": {},
   "outputs": [],
   "source": [
    "G.node_attribute_names"
   ]
  },
  {
   "cell_type": "code",
   "execution_count": null,
   "id": "b979c82f7d997aa0",
   "metadata": {},
   "outputs": [],
   "source": [
    "G.nodes['42693513_+']['direction']"
   ]
  },
  {
   "cell_type": "code",
   "execution_count": null,
   "id": "f07bddda71a81de9",
   "metadata": {
    "collapsed": false
   },
   "outputs": [],
   "source": [
    "edgeinfo_file = \"/Users/loconnor/Downloads/smaller_sub.edge\"\n",
    "nodeinfo_file = \"/Users/loconnor/Downloads/smaller_sub.node\"\n",
    "G.write_edgeinfo(edgeinfo_file)\n",
    "G.write_nodeinfo(nodeinfo_file)"
   ]
  },
  {
   "cell_type": "code",
   "execution_count": null,
   "id": "ad5ce87d43254908",
   "metadata": {
    "collapsed": false
   },
   "outputs": [],
   "source": [
    "G2 = PangenomeGraph.from_gfa(gfa_file, reference_path_index=1, nodeinfo_file=nodeinfo_file, edgeinfo_file=edgeinfo_file)"
   ]
  },
  {
   "cell_type": "code",
   "execution_count": null,
   "id": "42e1f8025d0fd795",
   "metadata": {},
   "outputs": [],
   "source": [
    "G3 = PangenomeGraph.from_gfa(gfa_file, reference_path_index=1, edgeinfo_file=edgeinfo_file)"
   ]
  },
  {
   "cell_type": "code",
   "execution_count": null,
   "id": "3f40308220fa883f",
   "metadata": {},
   "outputs": [],
   "source": [
    "G4 = PangenomeGraph.from_gfa(gfa_file, reference_path_index=1, nodeinfo_file=nodeinfo_file)"
   ]
  },
  {
   "cell_type": "code",
   "execution_count": null,
   "id": "1d9b61dcb958d9a5",
   "metadata": {},
   "outputs": [],
   "source": [
    "np.sum([pos for _, pos in G.nodes(data='position')])"
   ]
  },
  {
   "cell_type": "code",
   "execution_count": null,
   "id": "748e5fa0f30d13b3",
   "metadata": {},
   "outputs": [],
   "source": [
    "np.sum([pos for _, pos in G4.nodes(data='position')])"
   ]
  },
  {
   "cell_type": "code",
   "execution_count": null,
   "id": "67d81664114aa3c5",
   "metadata": {},
   "outputs": [],
   "source": [
    "G2.nodes['-_terminus_+']['position'], G.nodes['-_terminus_+']['position']"
   ]
  },
  {
   "cell_type": "code",
   "execution_count": null,
   "id": "f87baf2ce5a9bc96",
   "metadata": {},
   "outputs": [],
   "source": [
    "fh = open(gfa_file)\n",
    "next(fh)"
   ]
  },
  {
   "cell_type": "code",
   "execution_count": null,
   "id": "55e8c079672ce9ea",
   "metadata": {},
   "outputs": [],
   "source": [
    "fh = open(gfa_file)\n",
    "for line in fh:\n",
    "    parts = line.strip().split('\\t')\n",
    "    if parts[0] == 'S':\n",
    "        continue\n",
    "    break\n",
    "print(line)"
   ]
  },
  {
   "cell_type": "code",
   "execution_count": null,
   "id": "46702d4f5ac9952b",
   "metadata": {},
   "outputs": [],
   "source": [
    "def subset_gfa_to_tree(gfa_file, output_file, G):\n",
    "    with open(gfa_file) as fh:\n",
    "        with open(output_file, 'w') as fw:\n",
    "            for line in fh:\n",
    "                parts = line.strip().split('\\t')\n",
    "                if parts[0] == 'S':\n",
    "                    fw.write(line)\n",
    "                elif parts[0] == 'L':\n",
    "                    edge = (f\"{parts[1]}_{parts[2]}\", f\"{parts[3]}_{parts[4]}\")\n",
    "                    if G.edges[edge]['is_in_tree']:\n",
    "                        fw.write(line)\n",
    "                              "
   ]
  },
  {
   "cell_type": "code",
   "execution_count": null,
   "id": "f618e285662055a0",
   "metadata": {},
   "outputs": [],
   "source": [
    "subset_gfa_to_tree(gfa_file, \"/Users/loconnor/Downloads/smaller_sub_tree.gfa\", G)"
   ]
  },
  {
   "cell_type": "code",
   "execution_count": null,
   "id": "8daa8416530ed379",
   "metadata": {},
   "outputs": [],
   "source": [
    "l = list(G.nodes)\n",
    "l[1000]"
   ]
  },
  {
   "cell_type": "code",
   "execution_count": null,
   "id": "3a7de3ba069e5b49",
   "metadata": {},
   "outputs": [],
   "source": []
  }
 ],
 "metadata": {
  "kernelspec": {
   "display_name": "pan2",
   "language": "python",
   "name": "python3"
  },
  "language_info": {
   "codemirror_mode": {
    "name": "ipython",
    "version": 3
   },
   "file_extension": ".py",
   "mimetype": "text/x-python",
   "name": "python",
   "nbconvert_exporter": "python",
   "pygments_lexer": "ipython3",
   "version": "3.12.7"
  }
 },
 "nbformat": 4,
 "nbformat_minor": 5
}
