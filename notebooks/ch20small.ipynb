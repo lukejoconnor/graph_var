{
 "cells": [
  {
   "cell_type": "code",
   "id": "edb5379c-e40c-4ddc-9529-0baa787a0781",
   "metadata": {},
   "source": [
    "from graph import PangenomeGraph\n",
    "import numpy as np\n",
    "import networkx as nx\n",
    "from utils import edge_complement, node_complement\n"
   ],
   "outputs": [],
   "execution_count": null
  },
  {
   "cell_type": "code",
   "id": "9358bba2-316b-4a1b-b420-5866a54c7ebb",
   "metadata": {},
   "source": [
    "gfa_file = \"/Users/loconnor/Downloads/smaller_sub.gfa\"\n",
    "# gfa_file = \"/Users/loconnor/Downloads/grch38_chr20.gfa\"\n",
    "# gfa_file = \"c4a_with_inversion.gfa\"\n",
    "G, walks, walk_sample_names = PangenomeGraph.from_gfa(gfa_file, reference_path_index=1, return_walks=True)"
   ],
   "outputs": [],
   "execution_count": null
  },
  {
   "metadata": {},
   "cell_type": "code",
   "source": "genotypes = [G.genotype(walk) for walk in walks]",
   "id": "89338b26ff812c38",
   "outputs": [],
   "execution_count": null
  },
  {
   "metadata": {
    "ExecuteTime": {
     "end_time": "2024-11-04T17:34:23.588432Z",
     "start_time": "2024-11-04T17:34:23.577237Z"
    }
   },
   "cell_type": "code",
   "source": [
    "node = walks[5][100]\n",
    "G.nodes[node]['distance_from_reference']"
   ],
   "id": "2db8f67c8007e19d",
   "outputs": [
    {
     "ename": "TypeError",
     "evalue": "'NodeView' object is not an iterator",
     "output_type": "error",
     "traceback": [
      "\u001B[0;31m---------------------------------------------------------------------------\u001B[0m",
      "\u001B[0;31mTypeError\u001B[0m                                 Traceback (most recent call last)",
      "Cell \u001B[0;32mIn[6], line 1\u001B[0m\n\u001B[0;32m----> 1\u001B[0m node \u001B[38;5;241m=\u001B[39m \u001B[38;5;28mnext\u001B[39m(G\u001B[38;5;241m.\u001B[39mnodes)\n",
      "\u001B[0;31mTypeError\u001B[0m: 'NodeView' object is not an iterator"
     ]
    }
   ],
   "execution_count": 6
  },
  {
   "metadata": {},
   "cell_type": "code",
   "source": "visits = [G.count_edge_visits(genotype) for genotype in genotypes]",
   "id": "992b836ce5faf28f",
   "outputs": [],
   "execution_count": null
  },
  {
   "metadata": {},
   "cell_type": "code",
   "source": "allele_counts = G.allele_count()",
   "id": "e92ef4f18734c64b",
   "outputs": [],
   "execution_count": null
  },
  {
   "metadata": {},
   "cell_type": "code",
   "source": "allele_counts",
   "id": "f53fd56abc240dc0",
   "outputs": [],
   "execution_count": null
  },
  {
   "metadata": {},
   "cell_type": "code",
   "source": [
    "vcf_filename = \"chr20_subgraph.vcf\"\n",
    "tree_filename = \"chr20_subgraph.tree\"\n",
    "chr_name = \"chr20\"\n",
    "G.write_vcf(walks, walk_sample_names, vcf_filename, tree_filename, chr_name)"
   ],
   "id": "ac298ca8c6488588",
   "outputs": [],
   "execution_count": null
  },
  {
   "cell_type": "code",
   "source": [
    "cpts = nx.weakly_connected_components(G)\n",
    "sub = nx.subgraph(G, next(cpts))\n",
    "pos = nx.spring_layout(sub, k=10)\n",
    "nx.draw(sub, pos, with_labels=True)"
   ],
   "metadata": {
    "collapsed": false
   },
   "id": "7363cdeb73d9af",
   "outputs": [],
   "execution_count": null
  },
  {
   "metadata": {},
   "cell_type": "code",
   "source": [
    "pos = nx.spring_layout(G.reference_tree, k=10)\n",
    "nx.draw(G.reference_tree, pos, with_labels=True)"
   ],
   "id": "beb89adff411cab5",
   "outputs": [],
   "execution_count": null
  },
  {
   "metadata": {},
   "cell_type": "code",
   "source": [
    "for u in G.nodes:\n",
    "    G.nodes[u]['sequence'] = u\n",
    "\n",
    "\n",
    "for e in G.variant_edges:\n",
    "    if G.is_inversion(e):\n",
    "        continue\n",
    "    ref, alt, _, branch = G.ref_alt_alleles(e)\n",
    "    print(f\"edge: {e}, ref: {ref}, alt: {alt}, branch: {branch}\")\n",
    "    ref, alt, _, branch = G.ref_alt_alleles(_edge_complement(e))\n",
    "    print(f\"edge: {_edge_complement(e)}, ref: {ref}, alt: {alt}, branch: {branch}\")"
   ],
   "id": "9d7b16a5d30841fd",
   "outputs": [],
   "execution_count": null
  },
  {
   "metadata": {},
   "cell_type": "code",
   "source": [
    "invs = [e for e in G.variant_edges if G.is_inversion(e)]\n",
    "for e in invs:\n",
    "    ref, alt, _, branch = G.ref_alt_alleles(e)\n",
    "    print(f\"edge: {e}, ref: {ref}, alt: {alt}, branch: {branch}\")\n",
    "    ref, alt, _, branch = G.ref_alt_alleles(_edge_complement(e))\n",
    "    print(f\"edge: {_edge_complement(e)}, ref: {ref}, alt: {alt}, branch: {branch}\")"
   ],
   "id": "b04cc86e58895eea",
   "outputs": [],
   "execution_count": null
  },
  {
   "metadata": {},
   "cell_type": "code",
   "source": [
    "ref, alt, _, branch = G.ref_alt_alleles(invs[0])\n",
    "ref,alt,branch"
   ],
   "id": "2feaaf39ff26a14a",
   "outputs": [],
   "execution_count": null
  },
  {
   "metadata": {},
   "cell_type": "code",
   "source": [
    "[len(w) for w in walks]\n",
    "walks[6]"
   ],
   "id": "c4854164f4265124",
   "outputs": [],
   "execution_count": null
  },
  {
   "metadata": {},
   "cell_type": "code",
   "source": "G.walk_with_variants('STK19_+','C4B_-',[])",
   "id": "ee07d70a14f3ef03",
   "outputs": [],
   "execution_count": null
  },
  {
   "metadata": {},
   "cell_type": "code",
   "source": [
    "first, last, variant_edges = 'C4A_-','STK19_+',[('C4A_-', 'CYP21A2_+')]\n",
    "walk_direction = G.direction(first)\n",
    "source_nodes = [first] + [v for _, v in variant_edges]\n",
    "sink_nodes = [u for u, _ in variant_edges] + [last]\n",
    "source_nodes, sink_nodes"
   ],
   "id": "4077e5530ff8134f",
   "outputs": [],
   "execution_count": null
  },
  {
   "metadata": {},
   "cell_type": "code",
   "source": "walk_direction, G.direction(source_nodes[1])",
   "id": "3fa6145df16b9229",
   "outputs": [],
   "execution_count": null
  },
  {
   "metadata": {},
   "cell_type": "code",
   "source": [
    "segment, _ = G.walk_up_tree('STK19_+','CYP21A2_+')\n",
    "segment[1:]"
   ],
   "id": "791c5f7d1001227d",
   "outputs": [],
   "execution_count": null
  },
  {
   "metadata": {},
   "cell_type": "code",
   "source": "segment[::-1]",
   "id": "b0b4812844e112d",
   "outputs": [],
   "execution_count": null
  },
  {
   "metadata": {},
   "cell_type": "code",
   "source": "",
   "id": "65a758ce40e02323",
   "outputs": [],
   "execution_count": null
  },
  {
   "metadata": {},
   "cell_type": "code",
   "source": "G.walk_with_variants('C4A_-','STK19_+',[invs[1]])\n",
   "id": "12ab446ec3715a95",
   "outputs": [],
   "execution_count": null
  },
  {
   "metadata": {},
   "cell_type": "code",
   "source": "",
   "id": "b2049fe733f251da",
   "outputs": [],
   "execution_count": null
  },
  {
   "metadata": {},
   "cell_type": "code",
   "source": [
    "ref, alt, _, branch = G.ref_alt_alleles(_edge_complement(invs[1]))\n",
    "ref,alt,branch"
   ],
   "id": "a04156595d4a5acc",
   "outputs": [],
   "execution_count": null
  },
  {
   "metadata": {},
   "cell_type": "code",
   "source": "invs[1]",
   "id": "4434c6ea782af98",
   "outputs": [],
   "execution_count": null
  },
  {
   "metadata": {},
   "cell_type": "code",
   "source": [
    "# G.ref_alt_alleles(_edge_complement(e))\n",
    "u,v = _edge_complement(e)\n",
    "branch_point = G.edges[u, v]['branch_point']\n",
    "first, last = (branch_point, v) if G.nodes[u]['direction'] == 1 else (v, branch_point)\n",
    "first,last\n",
    "# G.nodes[e[0]], G.nodes[e[1]], _edge_complement(e), G.edges[_edge_complement(e)]['branch_point']"
   ],
   "id": "629af99b5e2b7897",
   "outputs": [],
   "execution_count": null
  },
  {
   "metadata": {},
   "cell_type": "code",
   "source": "u,v",
   "id": "a613ace1206aeb60",
   "outputs": [],
   "execution_count": null
  },
  {
   "metadata": {},
   "cell_type": "code",
   "source": "_edge_complement(e)",
   "id": "d9508d531e487ac3",
   "outputs": [],
   "execution_count": null
  },
  {
   "metadata": {},
   "cell_type": "code",
   "source": "G.walk_with_variants('CYP21A2_-', 'C4A_+', [_edge_complement(e)])",
   "id": "73cb2c18be4e4cb9",
   "outputs": [],
   "execution_count": null
  },
  {
   "metadata": {},
   "cell_type": "code",
   "source": [
    "e = ('C4B_+', 'C4A_+')\n",
    "u, v = e\n",
    "branch_point = G.edges[u, v]['branch_point']\n",
    "ref, alt, _, branch = G.ref_alt_alleles(e)\n",
    "print(f\"edge: {e}, ref: {ref}, alt: {alt}, branch: {branch}\")"
   ],
   "id": "956d5754cbdea3a",
   "outputs": [],
   "execution_count": null
  },
  {
   "metadata": {},
   "cell_type": "code",
   "source": [
    "alt_path = G.walk_with_variants(branch_point, v, [e])\n",
    "alt_path"
   ],
   "id": "c22a092bfc21a632",
   "outputs": [],
   "execution_count": null
  },
  {
   "metadata": {},
   "cell_type": "code",
   "source": [
    "l = [1]\n",
    "l += [2]\n",
    "l[1:-1]"
   ],
   "id": "e9f2e87142308730",
   "outputs": [],
   "execution_count": null
  },
  {
   "metadata": {},
   "cell_type": "code",
   "source": [
    "sink_nodes = [u] + [v]\n",
    "source_nodes = [branch_point] + [v]\n",
    "source_nodes, sink_nodes"
   ],
   "id": "486a1666fe8a39ea",
   "outputs": [],
   "execution_count": null
  },
  {
   "metadata": {},
   "cell_type": "code",
   "source": "G.nodes['C4A_+']['direction']",
   "id": "45772d8efe5372c8",
   "outputs": [],
   "execution_count": null
  },
  {
   "metadata": {},
   "cell_type": "code",
   "source": [
    "segment, _ = G.walk_up_tree('C4A_+', 'C4B_+')\n",
    "segment[::-1]"
   ],
   "id": "70fc1c6d75b70f59",
   "outputs": [],
   "execution_count": null
  },
  {
   "metadata": {},
   "cell_type": "code",
   "source": [
    "ref_path = G.walk_with_variants('C4A_+', 'C4A_+', [])\n",
    "G.walk_sequence(ref_path)"
   ],
   "id": "be3ced82b91987ac",
   "outputs": [],
   "execution_count": null
  },
  {
   "metadata": {},
   "cell_type": "code",
   "source": "G.ref_alt_alleles(('C4A_+', 'C4A_+'))",
   "id": "180464b82d2f621e",
   "outputs": [],
   "execution_count": null
  },
  {
   "metadata": {},
   "cell_type": "code",
   "source": "G.nodes['C4A_+']",
   "id": "8b1cbab0fa8302bd",
   "outputs": [],
   "execution_count": null
  },
  {
   "metadata": {},
   "cell_type": "code",
   "source": "",
   "id": "45d9c6de05dbae05",
   "outputs": [],
   "execution_count": null
  },
  {
   "metadata": {},
   "cell_type": "code",
   "source": [
    "for e in G.variant_edges:\n",
    "    ref, alt, _, _ = G.ref_alt_alleles(_edge_complement(e))\n",
    "    print(f\"ref: {ref}, alt: {alt}\")"
   ],
   "id": "d82e8756006feff0",
   "outputs": [],
   "execution_count": null
  },
  {
   "metadata": {},
   "cell_type": "code",
   "source": "",
   "id": "34b88a4f6e293544",
   "outputs": [],
   "execution_count": null
  },
  {
   "metadata": {},
   "cell_type": "code",
   "source": "",
   "id": "115c7a0e4fe88460",
   "outputs": [],
   "execution_count": null
  },
  {
   "metadata": {},
   "cell_type": "code",
   "source": "",
   "id": "9ad1dc47eb46c8c",
   "outputs": [],
   "execution_count": null
  },
  {
   "metadata": {},
   "cell_type": "code",
   "source": "",
   "id": "135257e3834931b1",
   "outputs": [],
   "execution_count": null
  },
  {
   "metadata": {},
   "cell_type": "code",
   "source": [
    "first = 'C4A_-'\n",
    "last = 'DXO_-'\n",
    "edge = (first, last)\n",
    "ref = G.walk_with_variants(*edge, [])\n",
    "alt = G.walk_with_variants(*edge, [edge])\n",
    "ref, alt"
   ],
   "id": "b587d5a23f48082b",
   "outputs": [],
   "execution_count": null
  },
  {
   "metadata": {},
   "cell_type": "code",
   "source": [
    "first = 'SKIC2_+'\n",
    "last = 'STK19_-'\n",
    "edge = (first, last)\n",
    "ref = G.walk_with_variants(first, last, [])\n",
    "alt = G.walk_with_variants(first, last, [edge])\n",
    "ref, alt"
   ],
   "id": "7d8be396628a8dc1",
   "outputs": [],
   "execution_count": null
  },
  {
   "metadata": {},
   "cell_type": "code",
   "source": [
    "first = 'C4A_-'\n",
    "last = 'DXO_-'\n",
    "edge = (first, last)\n",
    "# edge = _edge_complement(edge)\n",
    "ref = G.walk_with_variants(*edge, [])\n",
    "alt = G.walk_with_variants(*edge, [edge])\n",
    "ref, alt"
   ],
   "id": "fd2a70de70e9c072",
   "outputs": [],
   "execution_count": null
  },
  {
   "metadata": {},
   "cell_type": "code",
   "source": "G.nodes[first]['direction'], G.nodes[last]['direction']",
   "id": "83dc982a8062331d",
   "outputs": [],
   "execution_count": null
  },
  {
   "metadata": {},
   "cell_type": "code",
   "source": "G.edges[first, last]['branch_point']",
   "id": "edf0d62d53c868a7",
   "outputs": [],
   "execution_count": null
  },
  {
   "metadata": {},
   "cell_type": "code",
   "source": [
    "first = 'C4A_+'\n",
    "last = 'CYP21A2_+'\n",
    "edge = _edge_complement((first, last))\n",
    "ref = G.walk_with_variants(*edge, [])\n",
    "alt = G.walk_with_variants(*edge, [edge])\n",
    "ref, alt"
   ],
   "id": "819147ea2ba2749c",
   "outputs": [],
   "execution_count": null
  },
  {
   "metadata": {},
   "cell_type": "code",
   "source": [
    "first = 'C4A_+'\n",
    "last = 'CYP21A2_+'\n",
    "edge = (first, last)\n",
    "ref = G.walk_with_variants(*edge, [])\n",
    "alt = G.walk_with_variants(*edge, [edge])\n",
    "ref, alt"
   ],
   "id": "95b39dac088cd3e7",
   "outputs": [],
   "execution_count": null
  },
  {
   "metadata": {},
   "cell_type": "code",
   "source": "",
   "id": "5d40e9699a0200a4",
   "outputs": [],
   "execution_count": null
  },
  {
   "metadata": {},
   "cell_type": "code",
   "source": "G.walk_up_tree(last, last)",
   "id": "850f140d4bc2e9ea",
   "outputs": [],
   "execution_count": null
  },
  {
   "metadata": {},
   "cell_type": "code",
   "source": "walks[0]",
   "id": "39de67433b7bebf7",
   "outputs": [],
   "execution_count": null
  },
  {
   "cell_type": "code",
   "source": [
    "classification = []\n",
    "\n",
    "endpoints = \"STK19\", \"CYP21A2\"\n",
    "variants = [(\"STK19_+\", \"C4B_+\"), (\"C4A_+\", \"CYP21A2_+\")]\n",
    "classification.append(G.classify_triallelic_bubble(endpoints, variants))\n",
    "\n",
    "endpoints = \"C4A\", \"CYP21A2\"\n",
    "variants = [(\"C4B_+\", \"C4B_+\"), (\"C4A_+\", \"CYP21A2_+\")]\n",
    "classification.append(G.classify_triallelic_bubble(endpoints, variants))\n",
    "\n",
    "endpoints = \"C4A\", \"CYP21A2\"\n",
    "variants = [(\"CYP21A2_+\", \"C4B_+\"), (\"C4A_+\", \"CYP21A2_+\")]\n",
    "classification.append(G.classify_triallelic_bubble(endpoints, variants))\n",
    "\n",
    "classification"
   ],
   "metadata": {
    "collapsed": false
   },
   "id": "8334e8f7d0a1426d",
   "outputs": [],
   "execution_count": null
  },
  {
   "cell_type": "code",
   "source": [
    "inversions = [e for e in G.variant_edges if G.is_inversion(e)]\n",
    "inversions"
   ],
   "metadata": {
    "collapsed": false
   },
   "id": "269fbca5e5b41f23",
   "outputs": [],
   "execution_count": null
  },
  {
   "metadata": {},
   "cell_type": "code",
   "source": [
    "from utils import _node_complement, _edge_complement\n",
    "u,v = inversions[0]\n",
    "G.edges[u,_node_complement(v)]['branch_point']"
   ],
   "id": "5761102ae9473a30",
   "outputs": [],
   "execution_count": null
  },
  {
   "metadata": {},
   "cell_type": "code",
   "source": "u,v",
   "id": "ab19e29a951f84b",
   "outputs": [],
   "execution_count": null
  },
  {
   "metadata": {},
   "cell_type": "code",
   "source": [
    "def annotate_branch_points(self) -> None:\n",
    "    \"\"\"\n",
    "    Computes the branch point, i.e. the lowest common ancestor in the reference tree, of each variant edge.\n",
    "    \"\"\"\n",
    "\n",
    "    def positive_node(node):\n",
    "        return node if self.nodes[node]['direction'] == 1 else _node_complement(node)\n",
    "\n",
    "    positive_direction_variants = [(positive_node(u), positive_node(v)) for u,v in self.variant_edges]\n",
    "\n",
    "    # For each variant edge (u,v), yield the lowest common ancestor of u and v in the tree\n",
    "    branch_point_tuples = nx.tree_all_pairs_lowest_common_ancestor(\n",
    "        self.reference_tree,\n",
    "        root=self.termini[0]+'_+',\n",
    "        pairs=positive_direction_variants\n",
    "    )\n",
    "    branch_points = dict(branch_point_tuples)\n",
    "\n",
    "    for edge in self.variant_edges:\n",
    "        branch_point = branch_points[positive_node(edge[0]), positive_node(edge[1])]\n",
    "        self.edges[edge]['branch_point'] = branch_point\n",
    "        self.edges[_edge_complement(edge)]['branch_point'] = branch_point"
   ],
   "id": "83bad4ded556dd17",
   "outputs": [],
   "execution_count": null
  },
  {
   "metadata": {},
   "cell_type": "code",
   "source": "annotate_branch_points(G)",
   "id": "6e09e6e7cff4762d",
   "outputs": [],
   "execution_count": null
  },
  {
   "metadata": {},
   "cell_type": "code",
   "source": [
    "u,v = inversions[0]\n",
    "G.edges[u,v]['branch_point'], u, v"
   ],
   "id": "ec19639d782a5dde",
   "outputs": [],
   "execution_count": null
  },
  {
   "metadata": {},
   "cell_type": "code",
   "source": [
    "u,v = inversions[1]\n",
    "G.edges[u,v]['branch_point'], u, v"
   ],
   "id": "f44a2024e8d34508",
   "outputs": [],
   "execution_count": null
  },
  {
   "metadata": {},
   "cell_type": "code",
   "source": "inversions",
   "id": "feee5d14a781b14e",
   "outputs": [],
   "execution_count": null
  },
  {
   "metadata": {},
   "cell_type": "code",
   "source": "G.nodes['42737147_+']['direction']",
   "id": "8ceef671aaf30a30",
   "outputs": [],
   "execution_count": null
  },
  {
   "metadata": {},
   "cell_type": "code",
   "source": "",
   "id": "85080c1b27dece68",
   "outputs": [],
   "execution_count": null
  },
  {
   "metadata": {},
   "cell_type": "code",
   "source": "",
   "id": "2c82e2b27466dc46",
   "outputs": [],
   "execution_count": null
  },
  {
   "cell_type": "code",
   "source": [
    "G.has_edge(\"CYP21A2_+\", \"C4B_+\")"
   ],
   "metadata": {
    "collapsed": false
   },
   "id": "3bc8b2482ae57b6c",
   "outputs": [],
   "execution_count": null
  },
  {
   "cell_type": "code",
   "source": [
    "G.reference_tree.edges"
   ],
   "metadata": {
    "collapsed": false
   },
   "id": "c6d3ea51fec6ab57",
   "outputs": [],
   "execution_count": null
  },
  {
   "metadata": {},
   "cell_type": "code",
   "source": [
    "('42693511_-','42693513_+') in G.variant_edges"
   ],
   "id": "a1a50118316f0fea",
   "outputs": [],
   "execution_count": null
  },
  {
   "metadata": {},
   "cell_type": "code",
   "source": [
    "G.is_snp(('42693511_-','42693513_+'))"
   ],
   "id": "1a9c062301c1f497",
   "outputs": [],
   "execution_count": null
  },
  {
   "metadata": {},
   "cell_type": "code",
   "source": [
    "inversions = [edge for edge in G.variant_edges if G.is_inversion(edge)]"
   ],
   "id": "bc5ec766243fddf1",
   "outputs": [],
   "execution_count": null
  },
  {
   "metadata": {},
   "cell_type": "code",
   "source": [
    "inversions"
   ],
   "id": "3ba9ebb6f4ef1c97",
   "outputs": [],
   "execution_count": null
  },
  {
   "metadata": {},
   "cell_type": "code",
   "source": "walks",
   "id": "a7e63a27bb25c46d",
   "outputs": [],
   "execution_count": null
  },
  {
   "metadata": {},
   "cell_type": "code",
   "source": "genos = [G.genotype(walk) for walk in walks[:10]]",
   "id": "98d2954aa4fb1e71",
   "outputs": [],
   "execution_count": null
  },
  {
   "metadata": {},
   "cell_type": "code",
   "source": [
    "for geno in genos:\n",
    "    x = []\n",
    "    for e in inversions:\n",
    "        if e not in geno:\n",
    "            x.append(0)\n",
    "            continue\n",
    "        x.append(geno[e])\n",
    "    print(x)"
   ],
   "id": "627506e74ded682a",
   "outputs": [],
   "execution_count": null
  },
  {
   "metadata": {},
   "cell_type": "code",
   "source": "len(genos)",
   "id": "dab473403c8ced8e",
   "outputs": [],
   "execution_count": null
  },
  {
   "metadata": {},
   "cell_type": "code",
   "source": [
    "list(G.neighbors('42693514_+'))"
   ],
   "id": "2d2a628ee9fb4423",
   "outputs": [],
   "execution_count": null
  },
  {
   "metadata": {},
   "cell_type": "code",
   "source": [
    "[G.nodes[node] for node in G.neighbors('42693514_+')]"
   ],
   "id": "4628b033887bce82",
   "outputs": [],
   "execution_count": null
  },
  {
   "metadata": {},
   "cell_type": "code",
   "source": [
    "G.nodes['42693514_+']"
   ],
   "id": "820b0b152a379712",
   "outputs": [],
   "execution_count": null
  },
  {
   "metadata": {},
   "cell_type": "code",
   "source": [
    "e = inversions[0]\n",
    "G.ref_alt_alleles(e)"
   ],
   "id": "bde620fe520a180c",
   "outputs": [],
   "execution_count": null
  },
  {
   "metadata": {},
   "cell_type": "code",
   "source": [],
   "id": "5eac46030d0282c9",
   "outputs": [],
   "execution_count": null
  },
  {
   "metadata": {},
   "cell_type": "code",
   "source": [
    "list(G.neighbors('42693513_-'))"
   ],
   "id": "157bc51a97cf709b",
   "outputs": [],
   "execution_count": null
  },
  {
   "metadata": {},
   "cell_type": "code",
   "source": [
    "list(G.predecessors('42693513_+'))"
   ],
   "id": "a22da584609e06b7",
   "outputs": [],
   "execution_count": null
  },
  {
   "metadata": {},
   "cell_type": "code",
   "source": [
    "path = nx.shortest_path(G, '-_terminus_-','42693513_+')"
   ],
   "id": "db766a822ab44352",
   "outputs": [],
   "execution_count": null
  },
  {
   "metadata": {},
   "cell_type": "code",
   "source": [
    "sum([G.nodes[node]['on_reference_path'] for node in path])"
   ],
   "id": "e7369be0a1ab7d0d",
   "outputs": [],
   "execution_count": null
  },
  {
   "metadata": {},
   "cell_type": "code",
   "source": [
    "G.node_attribute_names"
   ],
   "id": "14ea61ac08ba766d",
   "outputs": [],
   "execution_count": null
  },
  {
   "metadata": {},
   "cell_type": "code",
   "source": [
    "G.nodes['42693513_+']['direction']"
   ],
   "id": "b979c82f7d997aa0",
   "outputs": [],
   "execution_count": null
  },
  {
   "cell_type": "code",
   "source": [
    "edgeinfo_file = \"/Users/loconnor/Downloads/smaller_sub.edge\"\n",
    "nodeinfo_file = \"/Users/loconnor/Downloads/smaller_sub.node\"\n",
    "G.write_edgeinfo(edgeinfo_file)\n",
    "G.write_nodeinfo(nodeinfo_file)"
   ],
   "metadata": {
    "collapsed": false
   },
   "id": "f07bddda71a81de9",
   "outputs": [],
   "execution_count": null
  },
  {
   "cell_type": "code",
   "source": [
    "G2 = PangenomeGraph.from_gfa(gfa_file, reference_path_index=1, nodeinfo_file=nodeinfo_file, edgeinfo_file=edgeinfo_file)"
   ],
   "metadata": {
    "collapsed": false
   },
   "id": "ad5ce87d43254908",
   "outputs": [],
   "execution_count": null
  },
  {
   "metadata": {},
   "cell_type": "code",
   "source": [
    "G3 = PangenomeGraph.from_gfa(gfa_file, reference_path_index=1, edgeinfo_file=edgeinfo_file)"
   ],
   "id": "42e1f8025d0fd795",
   "outputs": [],
   "execution_count": null
  },
  {
   "metadata": {},
   "cell_type": "code",
   "source": [
    "G4 = PangenomeGraph.from_gfa(gfa_file, reference_path_index=1, nodeinfo_file=nodeinfo_file)"
   ],
   "id": "3f40308220fa883f",
   "outputs": [],
   "execution_count": null
  },
  {
   "metadata": {},
   "cell_type": "code",
   "source": [
    "np.sum([pos for _, pos in G.nodes(data='position')])"
   ],
   "id": "1d9b61dcb958d9a5",
   "outputs": [],
   "execution_count": null
  },
  {
   "metadata": {},
   "cell_type": "code",
   "source": [
    "np.sum([pos for _, pos in G4.nodes(data='position')])"
   ],
   "id": "748e5fa0f30d13b3",
   "outputs": [],
   "execution_count": null
  },
  {
   "metadata": {},
   "cell_type": "code",
   "source": [
    "G2.nodes['-_terminus_+']['position'], G.nodes['-_terminus_+']['position']"
   ],
   "id": "67d81664114aa3c5",
   "outputs": [],
   "execution_count": null
  },
  {
   "metadata": {},
   "cell_type": "code",
   "source": [
    "fh = open(gfa_file)\n",
    "next(fh)"
   ],
   "id": "f87baf2ce5a9bc96",
   "outputs": [],
   "execution_count": null
  },
  {
   "metadata": {},
   "cell_type": "code",
   "source": [
    "fh = open(gfa_file)\n",
    "for line in fh:\n",
    "    parts = line.strip().split('\\t')\n",
    "    if parts[0] == 'S':\n",
    "        continue\n",
    "    break\n",
    "print(line)"
   ],
   "id": "55e8c079672ce9ea",
   "outputs": [],
   "execution_count": null
  },
  {
   "metadata": {},
   "cell_type": "code",
   "source": [
    "def subset_gfa_to_tree(gfa_file, output_file, G):\n",
    "    with open(gfa_file) as fh:\n",
    "        with open(output_file, 'w') as fw:\n",
    "            for line in fh:\n",
    "                parts = line.strip().split('\\t')\n",
    "                if parts[0] == 'S':\n",
    "                    fw.write(line)\n",
    "                elif parts[0] == 'L':\n",
    "                    edge = (f\"{parts[1]}_{parts[2]}\", f\"{parts[3]}_{parts[4]}\")\n",
    "                    if G.edges[edge]['is_in_tree']:\n",
    "                        fw.write(line)\n",
    "                              "
   ],
   "id": "46702d4f5ac9952b",
   "outputs": [],
   "execution_count": null
  },
  {
   "metadata": {},
   "cell_type": "code",
   "source": [
    "subset_gfa_to_tree(gfa_file, \"/Users/loconnor/Downloads/smaller_sub_tree.gfa\", G)"
   ],
   "id": "f618e285662055a0",
   "outputs": [],
   "execution_count": null
  },
  {
   "metadata": {},
   "cell_type": "code",
   "source": [
    "l = list(G.nodes)\n",
    "l[1000]"
   ],
   "id": "8daa8416530ed379",
   "outputs": [],
   "execution_count": null
  },
  {
   "metadata": {},
   "cell_type": "code",
   "source": [],
   "id": "3a7de3ba069e5b49",
   "outputs": [],
   "execution_count": null
  }
 ],
 "metadata": {
  "kernelspec": {
   "display_name": "Python 3 (ipykernel)",
   "language": "python",
   "name": "python3"
  },
  "language_info": {
   "codemirror_mode": {
    "name": "ipython",
    "version": 3
   },
   "file_extension": ".py",
   "mimetype": "text/x-python",
   "name": "python",
   "nbconvert_exporter": "python",
   "pygments_lexer": "ipython3",
   "version": "3.12.3"
  }
 },
 "nbformat": 4,
 "nbformat_minor": 5
}
